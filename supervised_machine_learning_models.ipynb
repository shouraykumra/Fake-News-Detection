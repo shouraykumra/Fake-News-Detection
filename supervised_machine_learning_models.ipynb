{
  "nbformat": 4,
  "nbformat_minor": 0,
  "metadata": {
    "accelerator": "GPU",
    "colab": {
      "name": "supervised_machine_learning_models.ipynb",
      "provenance": [],
      "collapsed_sections": [],
      "toc_visible": true
    },
    "kernelspec": {
      "display_name": "Python 3",
      "name": "python3"
    }
  },
  "cells": [
    {
      "cell_type": "markdown",
      "metadata": {
        "id": "uq_Na-CHdP1Q"
      },
      "source": [
        "# Fake News Detection Supervised Learning and Neural Networks\n",
        "\n"
      ]
    },
    {
      "cell_type": "code",
      "metadata": {
        "id": "kgoOrtFZ1zMP",
        "colab": {
          "base_uri": "https://localhost:8080/"
        },
        "outputId": "529071c3-7e86-4ed3-b874-fbda97ae5b2e"
      },
      "source": [
        "from google.colab import drive\n",
        "drive.mount('drive')"
      ],
      "execution_count": 1,
      "outputs": [
        {
          "output_type": "stream",
          "text": [
            "Mounted at drive\n"
          ],
          "name": "stdout"
        }
      ]
    },
    {
      "cell_type": "markdown",
      "metadata": {
        "id": "xB7Id2f7dZ9T"
      },
      "source": [
        "### importing the required libraries"
      ]
    },
    {
      "cell_type": "code",
      "metadata": {
        "id": "LsIeBJq815Bl"
      },
      "source": [
        "import pandas as pd\n",
        "import numpy as np\n",
        "import matplotlib.pyplot as plt\n",
        "import seaborn as sns"
      ],
      "execution_count": 2,
      "outputs": []
    },
    {
      "cell_type": "code",
      "metadata": {
        "id": "CPUJT4q_4dpC"
      },
      "source": [
        "from tensorflow.keras.layers import Embedding\n",
        "from tensorflow.keras.preprocessing.sequence import pad_sequences\n",
        "from tensorflow.keras.models import Sequential\n",
        "from tensorflow.keras.preprocessing.text import one_hot\n",
        "from tensorflow.keras.layers import LSTM\n",
        "from tensorflow.keras.layers import Dense\n",
        "from sklearn.linear_model import SGDClassifier, LogisticRegression\n",
        "from keras.utils import plot_model\n",
        "from sklearn.feature_extraction.text import CountVectorizer, TfidfTransformer\n",
        "from sklearn.svm import LinearSVC\n",
        "from sklearn.metrics import accuracy_score\n",
        "from sklearn.pipeline import Pipeline\n",
        "from sklearn import tree\n",
        "from sklearn.metrics import confusion_matrix\n",
        "from sklearn.metrics import plot_confusion_matrix\n",
        "import sklearn.metrics as metrics"
      ],
      "execution_count": 3,
      "outputs": []
    },
    {
      "cell_type": "code",
      "metadata": {
        "id": "24dQ0NLu7Wj-"
      },
      "source": [
        "from keras.layers import Embedding\n",
        "from keras.layers import Dense, Input, Flatten\n",
        "from keras.layers import Conv1D, MaxPooling1D, Embedding, Dropout\n",
        "from keras.models import Model\n",
        "from keras.layers.normalization import BatchNormalization"
      ],
      "execution_count": 4,
      "outputs": []
    },
    {
      "cell_type": "code",
      "metadata": {
        "id": "Ef1WVSqE2JLh"
      },
      "source": [
        "train_data=pd.read_csv('/content/drive/MyDrive/cleaned_data.csv', index_col=0)"
      ],
      "execution_count": 5,
      "outputs": []
    },
    {
      "cell_type": "code",
      "metadata": {
        "id": "dE49V6Vc2zOt"
      },
      "source": [
        "test_data=pd.read_csv('/content/drive/MyDrive/cleanedTest_data.csv', index_col=0)"
      ],
      "execution_count": 6,
      "outputs": []
    },
    {
      "cell_type": "code",
      "metadata": {
        "colab": {
          "base_uri": "https://localhost:8080/",
          "height": 196
        },
        "id": "LBFtfRsV2Qyw",
        "outputId": "ba78c761-940d-4b9b-ce39-e84d9b190269"
      },
      "source": [
        "train_data.head(3)"
      ],
      "execution_count": 7,
      "outputs": [
        {
          "output_type": "execute_result",
          "data": {
            "text/html": [
              "<div>\n",
              "<style scoped>\n",
              "    .dataframe tbody tr th:only-of-type {\n",
              "        vertical-align: middle;\n",
              "    }\n",
              "\n",
              "    .dataframe tbody tr th {\n",
              "        vertical-align: top;\n",
              "    }\n",
              "\n",
              "    .dataframe thead th {\n",
              "        text-align: right;\n",
              "    }\n",
              "</style>\n",
              "<table border=\"1\" class=\"dataframe\">\n",
              "  <thead>\n",
              "    <tr style=\"text-align: right;\">\n",
              "      <th></th>\n",
              "      <th>speaker</th>\n",
              "      <th>statement</th>\n",
              "      <th>paragraph_based_content</th>\n",
              "      <th>fullText_based_content</th>\n",
              "      <th>label_fnn</th>\n",
              "      <th>source</th>\n",
              "      <th>polarity</th>\n",
              "      <th>length</th>\n",
              "    </tr>\n",
              "  </thead>\n",
              "  <tbody>\n",
              "    <tr>\n",
              "      <th>0</th>\n",
              "      <td>Joe Wilkinson</td>\n",
              "      <td>national organization say georgia one america ...</td>\n",
              "      <td>coalition government watchdog group last week ...</td>\n",
              "      <td>coalition government watchdog group last week ...</td>\n",
              "      <td>fake</td>\n",
              "      <td>www.ajc.com</td>\n",
              "      <td>-0.027052</td>\n",
              "      <td>409</td>\n",
              "    </tr>\n",
              "    <tr>\n",
              "      <th>1</th>\n",
              "      <td>Rick Scott</td>\n",
              "      <td>say barack obama health care law big job kille...</td>\n",
              "      <td>supreme court justice embark three day oral ar...</td>\n",
              "      <td>supreme court justice embark three day oral ar...</td>\n",
              "      <td>fake</td>\n",
              "      <td>www.youtube.com</td>\n",
              "      <td>-0.062596</td>\n",
              "      <td>571</td>\n",
              "    </tr>\n",
              "    <tr>\n",
              "      <th>2</th>\n",
              "      <td>J.D. Alexander</td>\n",
              "      <td>say southwest florida water management distric...</td>\n",
              "      <td>new one senate budget committee chairman say w...</td>\n",
              "      <td>new one senate budget committee chairman say w...</td>\n",
              "      <td>fake</td>\n",
              "      <td>www.tampabay.com</td>\n",
              "      <td>0.037204</td>\n",
              "      <td>444</td>\n",
              "    </tr>\n",
              "  </tbody>\n",
              "</table>\n",
              "</div>"
            ],
            "text/plain": [
              "          speaker  ... length\n",
              "0   Joe Wilkinson  ...    409\n",
              "1      Rick Scott  ...    571\n",
              "2  J.D. Alexander  ...    444\n",
              "\n",
              "[3 rows x 8 columns]"
            ]
          },
          "metadata": {
            "tags": []
          },
          "execution_count": 7
        }
      ]
    },
    {
      "cell_type": "code",
      "metadata": {
        "colab": {
          "base_uri": "https://localhost:8080/",
          "height": 144
        },
        "id": "Tpv6MVpN2St6",
        "outputId": "71f593d7-3783-44cc-be4e-c5030f4c61d6"
      },
      "source": [
        "test_data.head(3)"
      ],
      "execution_count": 8,
      "outputs": [
        {
          "output_type": "execute_result",
          "data": {
            "text/html": [
              "<div>\n",
              "<style scoped>\n",
              "    .dataframe tbody tr th:only-of-type {\n",
              "        vertical-align: middle;\n",
              "    }\n",
              "\n",
              "    .dataframe tbody tr th {\n",
              "        vertical-align: top;\n",
              "    }\n",
              "\n",
              "    .dataframe thead th {\n",
              "        text-align: right;\n",
              "    }\n",
              "</style>\n",
              "<table border=\"1\" class=\"dataframe\">\n",
              "  <thead>\n",
              "    <tr style=\"text-align: right;\">\n",
              "      <th></th>\n",
              "      <th>speaker</th>\n",
              "      <th>statement</th>\n",
              "      <th>paragraph_based_content</th>\n",
              "      <th>fullText_based_content</th>\n",
              "      <th>label_fnn</th>\n",
              "      <th>source</th>\n",
              "    </tr>\n",
              "  </thead>\n",
              "  <tbody>\n",
              "    <tr>\n",
              "      <th>0</th>\n",
              "      <td>Jon Kyl</td>\n",
              "      <td>president obama attempt filibuster justice ali...</td>\n",
              "      <td>supreme court justice john paul stevens announ...</td>\n",
              "      <td>supreme court justice john paul stevens announ...</td>\n",
              "      <td>real</td>\n",
              "      <td>abcnews.go.com</td>\n",
              "    </tr>\n",
              "    <tr>\n",
              "      <th>1</th>\n",
              "      <td>Michael Steele</td>\n",
              "      <td>hawaii history throw incumbent office</td>\n",
              "      <td>abc week chairman republican democratic nation...</td>\n",
              "      <td>abc week chairman republican democratic nation...</td>\n",
              "      <td>real</td>\n",
              "      <td>www.starbulletin.com</td>\n",
              "    </tr>\n",
              "    <tr>\n",
              "      <th>2</th>\n",
              "      <td>John Boehner</td>\n",
              "      <td>national debt track exceed size entire economy...</td>\n",
              "      <td>ever since barack obama become president begin...</td>\n",
              "      <td>ever since barack obama become president begin...</td>\n",
              "      <td>real</td>\n",
              "      <td>www.desmoinesregister.com</td>\n",
              "    </tr>\n",
              "  </tbody>\n",
              "</table>\n",
              "</div>"
            ],
            "text/plain": [
              "          speaker  ...                     source\n",
              "0         Jon Kyl  ...             abcnews.go.com\n",
              "1  Michael Steele  ...       www.starbulletin.com\n",
              "2    John Boehner  ...  www.desmoinesregister.com\n",
              "\n",
              "[3 rows x 6 columns]"
            ]
          },
          "metadata": {
            "tags": []
          },
          "execution_count": 8
        }
      ]
    },
    {
      "cell_type": "code",
      "metadata": {
        "id": "hIq2nron28H7"
      },
      "source": [
        "train_data.drop(columns=['polarity', 'length'], inplace=True)"
      ],
      "execution_count": 9,
      "outputs": []
    },
    {
      "cell_type": "code",
      "metadata": {
        "id": "Of_fCgyo4RE0"
      },
      "source": [
        "vocab_size=500\n",
        "embedding_vector=10"
      ],
      "execution_count": 10,
      "outputs": []
    },
    {
      "cell_type": "markdown",
      "metadata": {
        "id": "_rZpBGBWJADK"
      },
      "source": [
        "### Model building on column statement for further comparison"
      ]
    },
    {
      "cell_type": "code",
      "metadata": {
        "id": "dqlDaOEv8OyJ"
      },
      "source": [
        "from sklearn.feature_extraction.text import CountVectorizer\n",
        "\n",
        "# data vectorizer\n",
        "vectorizer = CountVectorizer(analyzer = \"word\", \n",
        "                             binary = True, \n",
        "                             min_df =2,\n",
        "                             stop_words='english')\n",
        "array_sentence = vectorizer.fit_transform(train_data['statement']).toarray()\n",
        "training_data = pd.DataFrame(array_sentence, columns=vectorizer.get_feature_names())"
      ],
      "execution_count": 11,
      "outputs": []
    },
    {
      "cell_type": "code",
      "metadata": {
        "colab": {
          "base_uri": "https://localhost:8080/"
        },
        "id": "6prpYDdRvmgU",
        "outputId": "418741b1-1239-497b-ac19-c28d6d6f7eaf"
      },
      "source": [
        "train_data.shape"
      ],
      "execution_count": 12,
      "outputs": [
        {
          "output_type": "execute_result",
          "data": {
            "text/plain": [
              "(15212, 6)"
            ]
          },
          "metadata": {
            "tags": []
          },
          "execution_count": 12
        }
      ]
    },
    {
      "cell_type": "code",
      "metadata": {
        "colab": {
          "base_uri": "https://localhost:8080/"
        },
        "id": "HK2TUqFNvqVa",
        "outputId": "7acfb196-d6cd-4e7c-adfe-8dd140cddb83"
      },
      "source": [
        "training_data.shape"
      ],
      "execution_count": 13,
      "outputs": [
        {
          "output_type": "execute_result",
          "data": {
            "text/plain": [
              "(15212, 6623)"
            ]
          },
          "metadata": {
            "tags": []
          },
          "execution_count": 13
        }
      ]
    },
    {
      "cell_type": "code",
      "metadata": {
        "id": "1aymENQtvyH6"
      },
      "source": [
        "labels=train_data['label_fnn']"
      ],
      "execution_count": 14,
      "outputs": []
    },
    {
      "cell_type": "code",
      "metadata": {
        "id": "vM7UGL6bBnMw"
      },
      "source": [
        "train_data['label_fnn'].replace({'fake': 0, 'real': 1}, inplace=True)"
      ],
      "execution_count": 15,
      "outputs": []
    },
    {
      "cell_type": "markdown",
      "metadata": {
        "id": "jKu0JJXXqNfP"
      },
      "source": [
        "### Splitting the data into train and test data."
      ]
    },
    {
      "cell_type": "code",
      "metadata": {
        "id": "GVCWzzOou-Ah"
      },
      "source": [
        "from sklearn.model_selection import train_test_split\n",
        "X_train, X_test, y_train, y_test = train_test_split(training_data, labels, test_size=.2)"
      ],
      "execution_count": 16,
      "outputs": []
    },
    {
      "cell_type": "markdown",
      "metadata": {
        "id": "sRY-us8fqWeI"
      },
      "source": [
        "### Applying MultinomialNB to test out the suitability of descrete features in data."
      ]
    },
    {
      "cell_type": "code",
      "metadata": {
        "colab": {
          "base_uri": "https://localhost:8080/"
        },
        "id": "Pu9YjLvc7ajN",
        "outputId": "814e9016-3713-4008-9896-a978f01e6a31"
      },
      "source": [
        "from sklearn.naive_bayes import MultinomialNB\n",
        "model = MultinomialNB()\n",
        "model.fit(X_train, y_train)"
      ],
      "execution_count": 17,
      "outputs": [
        {
          "output_type": "execute_result",
          "data": {
            "text/plain": [
              "MultinomialNB(alpha=1.0, class_prior=None, fit_prior=True)"
            ]
          },
          "metadata": {
            "tags": []
          },
          "execution_count": 17
        }
      ]
    },
    {
      "cell_type": "code",
      "metadata": {
        "id": "oTnWb1N-pkDr"
      },
      "source": [
        "y_predict_train = model.predict(X_train)\n",
        "train_acc = accuracy_score(y_train,y_predict_train)\n",
        "    \n",
        "    # testing error\n",
        "y_predict_test = model.predict(X_test)\n",
        "test_acc = accuracy_score(y_test,y_predict_test)"
      ],
      "execution_count": 18,
      "outputs": []
    },
    {
      "cell_type": "code",
      "metadata": {
        "colab": {
          "base_uri": "https://localhost:8080/"
        },
        "id": "6EcEYpbjpkIP",
        "outputId": "03b9661c-3b9a-4bc5-996d-287e8b0cf948"
      },
      "source": [
        "print(\"Training Accuracy: {:.2f}%\".format(train_acc*100))\n",
        "print(\"Testing Accuracy: {:.2f}%\".format(test_acc*100))"
      ],
      "execution_count": 19,
      "outputs": [
        {
          "output_type": "stream",
          "text": [
            "Training Accuracy: 73.76%\n",
            "Testing Accuracy: 63.19%\n"
          ],
          "name": "stdout"
        }
      ]
    },
    {
      "cell_type": "markdown",
      "metadata": {
        "id": "bO4Arfk7Cfh6"
      },
      "source": [
        "### Using different datasets, train_data for training and for test_data for testing."
      ]
    },
    {
      "cell_type": "markdown",
      "metadata": {
        "id": "vnnGJ79WrLlm"
      },
      "source": [
        "### Here I will be testing the accuracy for Linear, Logistic regression, Decision Tree and MultinomialNB and later compare the accuracy of each model."
      ]
    },
    {
      "cell_type": "code",
      "metadata": {
        "id": "JiOivP3Zlf_a"
      },
      "source": [
        "test_data['label_fnn'].replace({'fake': 0, 'real': 1}, inplace=True)"
      ],
      "execution_count": 20,
      "outputs": []
    },
    {
      "cell_type": "markdown",
      "metadata": {
        "id": "jz8AhfX8tl0h"
      },
      "source": [
        "### LinearSVC"
      ]
    },
    {
      "cell_type": "code",
      "metadata": {
        "id": "INCX6hna_X8t"
      },
      "source": [
        "pipeline_Linear = Pipeline([\n",
        "        ('bow', CountVectorizer()),  \n",
        "        ('tfidf', TfidfTransformer()),  \n",
        "        ('c', LinearSVC())\n",
        "    ])\n",
        "fit = pipeline_Linear.fit(train_data['statement'],train_data['label_fnn'])"
      ],
      "execution_count": null,
      "outputs": []
    },
    {
      "cell_type": "code",
      "metadata": {
        "id": "sxTn55T0_YB0"
      },
      "source": [
        "pred=pipeline_Linear.predict(test_data['statement'])"
      ],
      "execution_count": null,
      "outputs": []
    },
    {
      "cell_type": "markdown",
      "metadata": {
        "id": "_GR8gIs0sN2x"
      },
      "source": [
        "### Accuracy of LinearSVC "
      ]
    },
    {
      "cell_type": "code",
      "metadata": {
        "colab": {
          "base_uri": "https://localhost:8080/"
        },
        "id": "oFUf_v5N_YHV",
        "outputId": "a5bbce2d-249c-4500-b5a9-3e52249130bd"
      },
      "source": [
        "print(\"Accuracy : \",accuracy_score(pred,test_data['label_fnn']))\n",
        "acc_linear=accuracy_score(pred,test_data['label_fnn'])*100"
      ],
      "execution_count": null,
      "outputs": [
        {
          "output_type": "stream",
          "text": [
            "Accuracy :  0.6736242884250474\n"
          ],
          "name": "stdout"
        }
      ]
    },
    {
      "cell_type": "code",
      "metadata": {
        "id": "Djnw9x9Kp14B"
      },
      "source": [
        "confusion = metrics.confusion_matrix(test_data['label_fnn'], pred)"
      ],
      "execution_count": null,
      "outputs": []
    },
    {
      "cell_type": "code",
      "metadata": {
        "colab": {
          "base_uri": "https://localhost:8080/",
          "height": 282
        },
        "id": "3epmjDP7tIkL",
        "outputId": "556631ce-af66-4a0b-9f3f-d92f9983a786"
      },
      "source": [
        "sns.heatmap(confusion/np.sum(confusion), annot=True, \n",
        "            fmt='.2%', cmap='Blues')"
      ],
      "execution_count": null,
      "outputs": [
        {
          "output_type": "execute_result",
          "data": {
            "text/plain": [
              "<matplotlib.axes._subplots.AxesSubplot at 0x7f74b7cb5790>"
            ]
          },
          "metadata": {
            "tags": []
          },
          "execution_count": 25
        },
        {
          "output_type": "display_data",
          "data": {
            "image/png": "[encoded data removed]",
            "text/plain": [
              "<Figure size 432x288 with 2 Axes>"
            ]
          },
          "metadata": {
            "tags": [],
            "needs_background": "light"
          }
        }
      ]
    },
    {
      "cell_type": "markdown",
      "metadata": {
        "id": "_qC01coitqFl"
      },
      "source": [
        "### Logistic Regression"
      ]
    },
    {
      "cell_type": "code",
      "metadata": {
        "id": "RcoqPY9K_YLf"
      },
      "source": [
        "pipeline_Logistic = Pipeline([\n",
        "        ('bow', CountVectorizer()),  \n",
        "        ('tfidf', TfidfTransformer()),  \n",
        "        (('c', LogisticRegression()))\n",
        "    ])\n",
        "fit = pipeline_Logistic.fit(train_data['statement'],train_data['label_fnn'])"
      ],
      "execution_count": null,
      "outputs": []
    },
    {
      "cell_type": "code",
      "metadata": {
        "id": "zyaOErPA_YPk"
      },
      "source": [
        "pred_logistic=pipeline_Logistic.predict(test_data['statement'])"
      ],
      "execution_count": null,
      "outputs": []
    },
    {
      "cell_type": "markdown",
      "metadata": {
        "id": "SqNd_HUjtuZN"
      },
      "source": [
        "### Accuracy of Logistic Regression"
      ]
    },
    {
      "cell_type": "code",
      "metadata": {
        "colab": {
          "base_uri": "https://localhost:8080/"
        },
        "id": "JfIq9FTcHKLp",
        "outputId": "2aa58da9-9dba-4a28-e4e3-e5372d922e9c"
      },
      "source": [
        "print(\"Accuracy : \",accuracy_score(pred_logistic,test_data['label_fnn']))\n",
        "acc_logistic=accuracy_score(pred_logistic,test_data['label_fnn'])*100"
      ],
      "execution_count": null,
      "outputs": [
        {
          "output_type": "stream",
          "text": [
            "Accuracy :  0.683111954459203\n"
          ],
          "name": "stdout"
        }
      ]
    },
    {
      "cell_type": "markdown",
      "metadata": {
        "id": "aZ4OmLkQd-Zs"
      },
      "source": [
        "### Confusion matrix of Logistic Regression"
      ]
    },
    {
      "cell_type": "code",
      "metadata": {
        "colab": {
          "base_uri": "https://localhost:8080/",
          "height": 282
        },
        "id": "MPDDD-UbwPaY",
        "outputId": "02635d50-c05f-4396-bd81-ec69adae6334"
      },
      "source": [
        "confusion_logistic = metrics.confusion_matrix(test_data['label_fnn'], pred_logistic)\n",
        "sns.heatmap(confusion_logistic/np.sum(confusion_logistic), annot=True, \n",
        "            fmt='.2%', cmap='Blues')"
      ],
      "execution_count": null,
      "outputs": [
        {
          "output_type": "execute_result",
          "data": {
            "text/plain": [
              "<matplotlib.axes._subplots.AxesSubplot at 0x7f74af4aaf50>"
            ]
          },
          "metadata": {
            "tags": []
          },
          "execution_count": 29
        },
        {
          "output_type": "display_data",
          "data": {
            "image/png": "[encoded data removed]",
            "text/plain": [
              "<Figure size 432x288 with 2 Axes>"
            ]
          },
          "metadata": {
            "tags": [],
            "needs_background": "light"
          }
        }
      ]
    },
    {
      "cell_type": "code",
      "metadata": {
        "colab": {
          "base_uri": "https://localhost:8080/",
          "height": 500
        },
        "id": "OEVIohRvwouT",
        "outputId": "62f10976-ac6b-41c3-af8b-79a49cdf07f2"
      },
      "source": [
        "plt.figure(figsize=(15,8))\n",
        "sns.heatmap(confusion_logistic, annot=True)"
      ],
      "execution_count": null,
      "outputs": [
        {
          "output_type": "execute_result",
          "data": {
            "text/plain": [
              "<matplotlib.axes._subplots.AxesSubplot at 0x7f74afb69250>"
            ]
          },
          "metadata": {
            "tags": []
          },
          "execution_count": 30
        },
        {
          "output_type": "display_data",
          "data": {
            "image/png": "[encoded data removed]",
            "text/plain": [
              "<Figure size 1080x576 with 2 Axes>"
            ]
          },
          "metadata": {
            "tags": [],
            "needs_background": "light"
          }
        }
      ]
    },
    {
      "cell_type": "markdown",
      "metadata": {
        "id": "kT9um5Lqt4-H"
      },
      "source": [
        "### Decision Tree"
      ]
    },
    {
      "cell_type": "code",
      "metadata": {
        "id": "ZTi4BlTkL8My"
      },
      "source": [
        "pipeline_decisiontree = Pipeline([\n",
        "        ('bow', CountVectorizer()),  \n",
        "        ('tfidf', TfidfTransformer()),  \n",
        "        ('c', tree.DecisionTreeClassifier())\n",
        "    ])\n",
        "fit = pipeline_decisiontree.fit(train_data['statement'],train_data['label_fnn'])"
      ],
      "execution_count": null,
      "outputs": []
    },
    {
      "cell_type": "code",
      "metadata": {
        "id": "jQWWXkAqL8S7"
      },
      "source": [
        "pred_tree=pipeline_decisiontree.predict(test_data['statement'])"
      ],
      "execution_count": null,
      "outputs": []
    },
    {
      "cell_type": "markdown",
      "metadata": {
        "id": "68Vj_eBOt-ij"
      },
      "source": [
        "### Accuracy"
      ]
    },
    {
      "cell_type": "code",
      "metadata": {
        "colab": {
          "base_uri": "https://localhost:8080/"
        },
        "id": "5bd6_h9IL8w_",
        "outputId": "f8049679-2962-4d9e-aa8b-1022d9bf04c8"
      },
      "source": [
        "print(\"Accuracy : \",accuracy_score(pred_tree,test_data['label_fnn']))\n",
        "acc_tree=accuracy_score(pred_tree,test_data['label_fnn'])*100"
      ],
      "execution_count": null,
      "outputs": [
        {
          "output_type": "stream",
          "text": [
            "Accuracy :  0.6110056925996205\n"
          ],
          "name": "stdout"
        }
      ]
    },
    {
      "cell_type": "markdown",
      "metadata": {
        "id": "BFn7DrpueKcW"
      },
      "source": [
        "### Confusion matrix of Decision Tree"
      ]
    },
    {
      "cell_type": "code",
      "metadata": {
        "colab": {
          "base_uri": "https://localhost:8080/",
          "height": 282
        },
        "id": "Q035KqZmxSIm",
        "outputId": "4e255542-675e-426d-a93d-5fa53a19729f"
      },
      "source": [
        "confusion_tree = metrics.confusion_matrix(test_data['label_fnn'], pred_tree)\n",
        "sns.heatmap(confusion_tree/np.sum(confusion_tree), annot=True, \n",
        "            fmt='.2%', cmap='RdBu')"
      ],
      "execution_count": null,
      "outputs": [
        {
          "output_type": "execute_result",
          "data": {
            "text/plain": [
              "<matplotlib.axes._subplots.AxesSubplot at 0x7f74af4db950>"
            ]
          },
          "metadata": {
            "tags": []
          },
          "execution_count": 34
        },
        {
          "output_type": "display_data",
          "data": {
            "image/png": "[encoded data removed]",
            "text/plain": [
              "<Figure size 432x288 with 2 Axes>"
            ]
          },
          "metadata": {
            "tags": [],
            "needs_background": "light"
          }
        }
      ]
    },
    {
      "cell_type": "markdown",
      "metadata": {
        "id": "COMYBA68uIaM"
      },
      "source": [
        "### MultinomialNB"
      ]
    },
    {
      "cell_type": "code",
      "metadata": {
        "id": "fScLXP0MPp6I"
      },
      "source": [
        "pipeline_Multinomial = Pipeline([\n",
        "        ('bow', CountVectorizer()),  \n",
        "        ('tfidf', TfidfTransformer()),  \n",
        "        ('c', MultinomialNB())\n",
        "    ])\n",
        "fit = pipeline_Multinomial.fit(train_data['statement'],train_data['label_fnn'])"
      ],
      "execution_count": null,
      "outputs": []
    },
    {
      "cell_type": "code",
      "metadata": {
        "id": "JOD6MCA8PqHr"
      },
      "source": [
        "pred_multinomial=pipeline_Multinomial.predict(test_data['statement'])"
      ],
      "execution_count": null,
      "outputs": []
    },
    {
      "cell_type": "code",
      "metadata": {
        "colab": {
          "base_uri": "https://localhost:8080/"
        },
        "id": "TSLYpbk9PqBK",
        "outputId": "1094e66c-cdf1-4344-df24-929c066b9c95"
      },
      "source": [
        "print(\"Accuracy : \",accuracy_score(pred_multinomial,test_data['label_fnn']))\n",
        "acc_multinomial=accuracy_score(pred_multinomial,test_data['label_fnn'])*100"
      ],
      "execution_count": null,
      "outputs": [
        {
          "output_type": "stream",
          "text": [
            "Accuracy :  0.7182163187855788\n"
          ],
          "name": "stdout"
        }
      ]
    },
    {
      "cell_type": "markdown",
      "metadata": {
        "id": "L0cTmAFSePvi"
      },
      "source": [
        "### Confusion matrix of MultinomialNB"
      ]
    },
    {
      "cell_type": "code",
      "metadata": {
        "colab": {
          "base_uri": "https://localhost:8080/",
          "height": 282
        },
        "id": "XtFbfMJ7zJcp",
        "outputId": "25183f86-c81a-4f93-e715-a372788b5b93"
      },
      "source": [
        "confusion_multinomial = metrics.confusion_matrix(test_data['label_fnn'], pred_multinomial)\n",
        "sns.heatmap(confusion_multinomial/np.sum(confusion_multinomial), annot=True, \n",
        "            fmt='.2%', cmap='jet')"
      ],
      "execution_count": null,
      "outputs": [
        {
          "output_type": "execute_result",
          "data": {
            "text/plain": [
              "<matplotlib.axes._subplots.AxesSubplot at 0x7f74af0dc490>"
            ]
          },
          "metadata": {
            "tags": []
          },
          "execution_count": 38
        },
        {
          "output_type": "display_data",
          "data": {
            "image/png": "[encoded data removed]",
            "text/plain": [
              "<Figure size 432x288 with 2 Axes>"
            ]
          },
          "metadata": {
            "tags": [],
            "needs_background": "light"
          }
        }
      ]
    },
    {
      "cell_type": "code",
      "metadata": {
        "id": "qy51U0yJclnQ"
      },
      "source": [
        "#make dataset here\n",
        "\n",
        "accuracy_data = {'Supervised ML Models':['Linear Regression', 'Logistic Regression', 'Decision Tree', 'Multinomial'],\n",
        "        'Accuracy':[acc_linear, acc_logistic, acc_tree, acc_multinomial]}\n",
        "  \n",
        "# Create DataFrame\n",
        "df_statement_accuracy = pd.DataFrame(accuracy_data)"
      ],
      "execution_count": null,
      "outputs": []
    },
    {
      "cell_type": "markdown",
      "metadata": {
        "id": "8ngY8wj5uPJc"
      },
      "source": [
        "### comparing all the accuracies"
      ]
    },
    {
      "cell_type": "code",
      "metadata": {
        "colab": {
          "base_uri": "https://localhost:8080/",
          "height": 174
        },
        "id": "bRLF_WkxeKgS",
        "outputId": "0f2dd06f-273c-4b54-c237-5f45ad2a3b95"
      },
      "source": [
        "df_statement_accuracy"
      ],
      "execution_count": null,
      "outputs": [
        {
          "output_type": "execute_result",
          "data": {
            "text/html": [
              "<div>\n",
              "<style scoped>\n",
              "    .dataframe tbody tr th:only-of-type {\n",
              "        vertical-align: middle;\n",
              "    }\n",
              "\n",
              "    .dataframe tbody tr th {\n",
              "        vertical-align: top;\n",
              "    }\n",
              "\n",
              "    .dataframe thead th {\n",
              "        text-align: right;\n",
              "    }\n",
              "</style>\n",
              "<table border=\"1\" class=\"dataframe\">\n",
              "  <thead>\n",
              "    <tr style=\"text-align: right;\">\n",
              "      <th></th>\n",
              "      <th>Supervised ML Models</th>\n",
              "      <th>Accuracy</th>\n",
              "    </tr>\n",
              "  </thead>\n",
              "  <tbody>\n",
              "    <tr>\n",
              "      <th>0</th>\n",
              "      <td>Linear Regression</td>\n",
              "      <td>67.362429</td>\n",
              "    </tr>\n",
              "    <tr>\n",
              "      <th>1</th>\n",
              "      <td>Logistic Regression</td>\n",
              "      <td>68.311195</td>\n",
              "    </tr>\n",
              "    <tr>\n",
              "      <th>2</th>\n",
              "      <td>Decision Tree</td>\n",
              "      <td>61.100569</td>\n",
              "    </tr>\n",
              "    <tr>\n",
              "      <th>3</th>\n",
              "      <td>Multinomial</td>\n",
              "      <td>71.821632</td>\n",
              "    </tr>\n",
              "  </tbody>\n",
              "</table>\n",
              "</div>"
            ],
            "text/plain": [
              "  Supervised ML Models   Accuracy\n",
              "0    Linear Regression  67.362429\n",
              "1  Logistic Regression  68.311195\n",
              "2        Decision Tree  61.100569\n",
              "3          Multinomial  71.821632"
            ]
          },
          "metadata": {
            "tags": []
          },
          "execution_count": 40
        }
      ]
    },
    {
      "cell_type": "markdown",
      "metadata": {
        "id": "f_hUN0dhuWuB"
      },
      "source": [
        "### Bar graph shows Decision tree has the lowest accuracy and MultinomialNB has the highest accuracy which explains it did good job in validating descrete features."
      ]
    },
    {
      "cell_type": "code",
      "metadata": {
        "colab": {
          "base_uri": "https://localhost:8080/",
          "height": 294
        },
        "id": "HQgv-5sYecar",
        "outputId": "3bf5fb23-ff42-444d-a727-b92a892a2ddc"
      },
      "source": [
        "plt.bar(df_statement_accuracy['Supervised ML Models'], df_statement_accuracy['Accuracy'])\n",
        "plt.title('Column = Statement')\n",
        "plt.xlabel('Models')\n",
        "plt.ylabel('Accuracy')\n",
        "plt.show()"
      ],
      "execution_count": null,
      "outputs": [
        {
          "output_type": "display_data",
          "data": {
            "image/png": "[encoded data removed]",
            "text/plain": [
              "<Figure size 432x288 with 1 Axes>"
            ]
          },
          "metadata": {
            "tags": [],
            "needs_background": "light"
          }
        }
      ]
    },
    {
      "cell_type": "markdown",
      "metadata": {
        "id": "aYWNcBwcJ2qg"
      },
      "source": [
        "### Model building on column paragraph_based_content for further comparison"
      ]
    },
    {
      "cell_type": "code",
      "metadata": {
        "id": "aGG-3PhUMiAg"
      },
      "source": [
        "fit = pipeline_Linear.fit(train_data['paragraph_based_content'],train_data['label_fnn'])"
      ],
      "execution_count": null,
      "outputs": []
    },
    {
      "cell_type": "code",
      "metadata": {
        "id": "yTNaWQkVR4uv"
      },
      "source": [
        "pred_para=pipeline_Linear.predict(test_data['paragraph_based_content'])"
      ],
      "execution_count": null,
      "outputs": []
    },
    {
      "cell_type": "code",
      "metadata": {
        "colab": {
          "base_uri": "https://localhost:8080/"
        },
        "id": "mHXpiG-ySI3H",
        "outputId": "d92f8004-9d41-417e-e621-7de6c392326a"
      },
      "source": [
        "print(\"Accuracy : \",accuracy_score(pred_para,test_data['label_fnn']))\n",
        "acc_para_linear=accuracy_score(pred_para,test_data['label_fnn'])*100"
      ],
      "execution_count": null,
      "outputs": [
        {
          "output_type": "stream",
          "text": [
            "Accuracy :  0.8036053130929791\n"
          ],
          "name": "stdout"
        }
      ]
    },
    {
      "cell_type": "markdown",
      "metadata": {
        "id": "LklWHp_XeYiP"
      },
      "source": [
        "### repeating the steps for each column namely, paragraph based and full text based from the original training data."
      ]
    },
    {
      "cell_type": "code",
      "metadata": {
        "id": "Vk_WTswoSOFY"
      },
      "source": [
        "fit = pipeline_Logistic.fit(train_data['paragraph_based_content'],train_data['label_fnn'])"
      ],
      "execution_count": null,
      "outputs": []
    },
    {
      "cell_type": "code",
      "metadata": {
        "id": "KddnNQfBThSw"
      },
      "source": [
        "pred_logistic_para=pipeline_Logistic.predict(test_data['paragraph_based_content'])"
      ],
      "execution_count": null,
      "outputs": []
    },
    {
      "cell_type": "code",
      "metadata": {
        "colab": {
          "base_uri": "https://localhost:8080/"
        },
        "id": "rfD0ZBXMTopb",
        "outputId": "e5b6353e-622f-4c05-8625-3eda3218f6f7"
      },
      "source": [
        "print(\"Accuracy : \",accuracy_score(pred_logistic_para,test_data['label_fnn']))\n",
        "acc_para_logistic=accuracy_score(pred_logistic_para,test_data['label_fnn'])*100"
      ],
      "execution_count": null,
      "outputs": [
        {
          "output_type": "stream",
          "text": [
            "Accuracy :  0.8045540796963947\n"
          ],
          "name": "stdout"
        }
      ]
    },
    {
      "cell_type": "code",
      "metadata": {
        "id": "s4-imNzxTtDY"
      },
      "source": [
        "fit = pipeline_decisiontree.fit(train_data['paragraph_based_content'],train_data['label_fnn'])"
      ],
      "execution_count": null,
      "outputs": []
    },
    {
      "cell_type": "code",
      "metadata": {
        "id": "MrQZUHhfUtGG"
      },
      "source": [
        "pred_tree_para=pipeline_decisiontree.predict(test_data['paragraph_based_content'])"
      ],
      "execution_count": null,
      "outputs": []
    },
    {
      "cell_type": "code",
      "metadata": {
        "colab": {
          "base_uri": "https://localhost:8080/"
        },
        "id": "UAXv4xBIU3wD",
        "outputId": "63a7eee0-7729-4060-b7f0-70253f1bf2bc"
      },
      "source": [
        "print(\"Accuracy : \",accuracy_score(pred_tree_para,test_data['label_fnn']))\n",
        "acc_para_tree=accuracy_score(pred_tree_para,test_data['label_fnn'])*100"
      ],
      "execution_count": null,
      "outputs": [
        {
          "output_type": "stream",
          "text": [
            "Accuracy :  0.6783681214421252\n"
          ],
          "name": "stdout"
        }
      ]
    },
    {
      "cell_type": "code",
      "metadata": {
        "id": "hhQw6_PcU-Qm"
      },
      "source": [
        "fit = pipeline_Multinomial.fit(train_data['paragraph_based_content'],train_data['label_fnn'])"
      ],
      "execution_count": null,
      "outputs": []
    },
    {
      "cell_type": "code",
      "metadata": {
        "id": "4OvTipT8Vd2d"
      },
      "source": [
        "pred_multinomial_para=pipeline_Multinomial.predict(test_data['paragraph_based_content'])"
      ],
      "execution_count": null,
      "outputs": []
    },
    {
      "cell_type": "code",
      "metadata": {
        "colab": {
          "base_uri": "https://localhost:8080/"
        },
        "id": "hU5xMyCAVkY6",
        "outputId": "fa5cdb38-166a-4a7a-d282-085484cf4b3d"
      },
      "source": [
        "print(\"Accuracy : \",accuracy_score(pred_multinomial_para,test_data['label_fnn']))\n",
        "acc_para_multinomial=accuracy_score(pred_multinomial_para,test_data['label_fnn'])*100"
      ],
      "execution_count": null,
      "outputs": [
        {
          "output_type": "stream",
          "text": [
            "Accuracy :  0.7590132827324478\n"
          ],
          "name": "stdout"
        }
      ]
    },
    {
      "cell_type": "code",
      "metadata": {
        "id": "GtNp1WdZf_6b"
      },
      "source": [
        "#make dataset here\n",
        "\n",
        "accuracy_para_data = {'Supervised ML Models':['Linear Regression', 'Logistic Regression', 'Decision Tree', 'Multinomial'],\n",
        "        'Accuracy':[acc_para_linear, acc_para_logistic, acc_para_tree, acc_para_multinomial]}\n",
        "  \n",
        "# Create DataFrame\n",
        "df_para_accuracy = pd.DataFrame(accuracy_para_data)"
      ],
      "execution_count": null,
      "outputs": []
    },
    {
      "cell_type": "code",
      "metadata": {
        "colab": {
          "base_uri": "https://localhost:8080/",
          "height": 294
        },
        "id": "hGpVbKMJgMQh",
        "outputId": "96d6bbd9-0f93-42af-d35b-16c70e4289d8"
      },
      "source": [
        "plt.bar(df_para_accuracy['Supervised ML Models'], df_para_accuracy['Accuracy'])\n",
        "plt.title('Column = Paragraph based')\n",
        "plt.xlabel('Models')\n",
        "plt.ylabel('Accuracy')\n",
        "plt.show()"
      ],
      "execution_count": null,
      "outputs": [
        {
          "output_type": "display_data",
          "data": {
            "image/png": "[encoded data removed]",
            "text/plain": [
              "<Figure size 432x288 with 1 Axes>"
            ]
          },
          "metadata": {
            "tags": [],
            "needs_background": "light"
          }
        }
      ]
    },
    {
      "cell_type": "markdown",
      "metadata": {
        "id": "tSnTl4ghW91P"
      },
      "source": [
        "### Model building on column fullText_based_content for further comparison"
      ]
    },
    {
      "cell_type": "code",
      "metadata": {
        "id": "vV6pMu-MVo24"
      },
      "source": [
        "fit = pipeline_Linear.fit(train_data['fullText_based_content'],train_data['label_fnn'])"
      ],
      "execution_count": null,
      "outputs": []
    },
    {
      "cell_type": "code",
      "metadata": {
        "id": "q1o7P3aoXTlD"
      },
      "source": [
        "pred_fullText=pipeline_Linear.predict(test_data['fullText_based_content'])"
      ],
      "execution_count": null,
      "outputs": []
    },
    {
      "cell_type": "code",
      "metadata": {
        "colab": {
          "base_uri": "https://localhost:8080/"
        },
        "id": "_2rQOKcwXZei",
        "outputId": "a912664e-9e85-4637-9fe4-4824b4a27d34"
      },
      "source": [
        "print(\"Accuracy : \",accuracy_score(pred_fullText,test_data['label_fnn']))\n",
        "acc_fullText_Linear=accuracy_score(pred_fullText,test_data['label_fnn'])*100"
      ],
      "execution_count": null,
      "outputs": [
        {
          "output_type": "stream",
          "text": [
            "Accuracy :  0.8026565464895635\n"
          ],
          "name": "stdout"
        }
      ]
    },
    {
      "cell_type": "code",
      "metadata": {
        "id": "z304U1EsXeYP"
      },
      "source": [
        "fit = pipeline_Logistic.fit(train_data['fullText_based_content'],train_data['label_fnn'])"
      ],
      "execution_count": null,
      "outputs": []
    },
    {
      "cell_type": "code",
      "metadata": {
        "id": "5epJfz1Za9Zk"
      },
      "source": [
        "pred_logistic_fullText=pipeline_Logistic.predict(test_data['fullText_based_content'])"
      ],
      "execution_count": null,
      "outputs": []
    },
    {
      "cell_type": "code",
      "metadata": {
        "colab": {
          "base_uri": "https://localhost:8080/"
        },
        "id": "OvxlrsO-bCfX",
        "outputId": "da7d1083-64dc-4529-ec11-d5b018bfd6e7"
      },
      "source": [
        "print(\"Accuracy : \",accuracy_score(pred_logistic_fullText,test_data['label_fnn']))\n",
        "acc_fullText_logistic=accuracy_score(pred_logistic_fullText,test_data['label_fnn'])*100"
      ],
      "execution_count": null,
      "outputs": [
        {
          "output_type": "stream",
          "text": [
            "Accuracy :  0.8045540796963947\n"
          ],
          "name": "stdout"
        }
      ]
    },
    {
      "cell_type": "code",
      "metadata": {
        "id": "KsujilRybGwS"
      },
      "source": [
        "fit = pipeline_decisiontree.fit(train_data['fullText_based_content'],train_data['label_fnn'])"
      ],
      "execution_count": null,
      "outputs": []
    },
    {
      "cell_type": "code",
      "metadata": {
        "id": "CwKZORidbpiv"
      },
      "source": [
        "pred_tree_fullText=pipeline_decisiontree.predict(test_data['fullText_based_content'])"
      ],
      "execution_count": null,
      "outputs": []
    },
    {
      "cell_type": "code",
      "metadata": {
        "colab": {
          "base_uri": "https://localhost:8080/"
        },
        "id": "I2zoCvfJbt-n",
        "outputId": "fa1b95a8-e194-4a0a-eaae-62f075783744"
      },
      "source": [
        "print(\"Accuracy : \",accuracy_score(pred_tree_fullText,test_data['label_fnn']))\n",
        "acc_fullText_tree=accuracy_score(pred_tree_fullText,test_data['label_fnn'])*100"
      ],
      "execution_count": null,
      "outputs": [
        {
          "output_type": "stream",
          "text": [
            "Accuracy :  0.6821631878557874\n"
          ],
          "name": "stdout"
        }
      ]
    },
    {
      "cell_type": "code",
      "metadata": {
        "colab": {
          "base_uri": "https://localhost:8080/"
        },
        "id": "6LaMpYIobydt",
        "outputId": "b3afb45a-5df9-4139-8798-b78b1049f101"
      },
      "source": [
        "fit = pipeline_Multinomial.fit(train_data['fullText_based_content'],train_data['label_fnn'])\n",
        "pred_multinomial_fullText=pipeline_Multinomial.predict(test_data['fullText_based_content'])\n",
        "print(\"Accuracy : \",accuracy_score(pred_multinomial_fullText,test_data['label_fnn']))"
      ],
      "execution_count": null,
      "outputs": [
        {
          "output_type": "stream",
          "text": [
            "Accuracy :  0.7590132827324478\n"
          ],
          "name": "stdout"
        }
      ]
    },
    {
      "cell_type": "code",
      "metadata": {
        "id": "ie-o0wIBcBXg"
      },
      "source": [
        "acc_fullText_multinomial=accuracy_score(pred_multinomial_fullText,test_data['label_fnn'])*100"
      ],
      "execution_count": null,
      "outputs": []
    },
    {
      "cell_type": "code",
      "metadata": {
        "id": "c5L_tXTrlU88"
      },
      "source": [
        "#make dataset here\n",
        "\n",
        "accuracy_fullText_data = {'Supervised ML Models':['Linear Regression', 'Logistic Regression', 'Decision Tree', 'Multinomial'],\n",
        "        'Accuracy':[acc_fullText_Linear, acc_fullText_logistic, acc_fullText_tree, acc_fullText_multinomial]}\n",
        "  \n",
        "# Create DataFrame\n",
        "df_fullText_accuracy = pd.DataFrame(accuracy_fullText_data)"
      ],
      "execution_count": null,
      "outputs": []
    },
    {
      "cell_type": "code",
      "metadata": {
        "colab": {
          "base_uri": "https://localhost:8080/",
          "height": 294
        },
        "id": "-hDM0O2KlgrS",
        "outputId": "b5de812f-a5dd-458c-d483-0662c8c308e6"
      },
      "source": [
        "plt.bar(df_fullText_accuracy['Supervised ML Models'], df_fullText_accuracy['Accuracy'])\n",
        "plt.title('Column = FullText')\n",
        "plt.xlabel('Models')\n",
        "plt.ylabel('Accuracy')\n",
        "plt.show()"
      ],
      "execution_count": null,
      "outputs": [
        {
          "output_type": "display_data",
          "data": {
            "image/png": "[encoded data removed]",
            "text/plain": [
              "<Figure size 432x288 with 1 Axes>"
            ]
          },
          "metadata": {
            "tags": [],
            "needs_background": "light"
          }
        }
      ]
    },
    {
      "cell_type": "markdown",
      "metadata": {
        "id": "SbzNdkT_vrll"
      },
      "source": [
        "### Comparing all the models tested on 3 columns namely, statement, paragraph based reviews and full text based reviews to compare which type of data performed the best. All the models performed good for both paragraph based and full text based but decision tree performed a little less on paragraph based text. "
      ]
    },
    {
      "cell_type": "code",
      "metadata": {
        "colab": {
          "base_uri": "https://localhost:8080/",
          "height": 294
        },
        "id": "2DP5wxAqlqSu",
        "outputId": "53c5ade6-8c27-446e-af80-05bcb5e966c4"
      },
      "source": [
        "linearity=['Linear Statement', 'Linear Paragraph', 'Linear fullText']\n",
        "accuracy_linearity=[acc_linear, acc_para_linear, acc_fullText_Linear]\n",
        "plt.plot(linearity, accuracy_linearity)\n",
        "plt.title('Linear Regression on each model')\n",
        "plt.xlabel('Linear Models')\n",
        "plt.ylabel('Accuracy')\n",
        "plt.show()"
      ],
      "execution_count": null,
      "outputs": [
        {
          "output_type": "display_data",
          "data": {
            "image/png": "[encoded data removed]",
            "text/plain": [
              "<Figure size 432x288 with 1 Axes>"
            ]
          },
          "metadata": {
            "tags": [],
            "needs_background": "light"
          }
        }
      ]
    },
    {
      "cell_type": "code",
      "metadata": {
        "colab": {
          "base_uri": "https://localhost:8080/",
          "height": 294
        },
        "id": "5Kjg-C6Lm5mZ",
        "outputId": "936d557a-e695-4e26-b34f-09ac3eb5aa65"
      },
      "source": [
        "logistics=['Logistic Statement', 'Logistic Paragraph', 'Logistic fullText']\n",
        "accuracy_logistics=[acc_logistic, acc_para_logistic, acc_fullText_logistic]\n",
        "plt.plot(linearity, accuracy_logistics)\n",
        "plt.title('logistic regression on each model')\n",
        "plt.xlabel('Logistic Models')\n",
        "plt.ylabel('Accuracy')\n",
        "plt.show()"
      ],
      "execution_count": null,
      "outputs": [
        {
          "output_type": "display_data",
          "data": {
            "image/png": "[encoded data removed]",
            "text/plain": [
              "<Figure size 432x288 with 1 Axes>"
            ]
          },
          "metadata": {
            "tags": [],
            "needs_background": "light"
          }
        }
      ]
    },
    {
      "cell_type": "code",
      "metadata": {
        "colab": {
          "base_uri": "https://localhost:8080/",
          "height": 294
        },
        "id": "bcewcwHjoQnK",
        "outputId": "bf9015a8-cabb-4589-a7ec-5c8861e7c561"
      },
      "source": [
        "tree=['Tree Statement', 'Tree Paragraph', 'Tree fullText']\n",
        "accuracy_tree=[acc_tree, acc_para_tree, acc_fullText_tree]\n",
        "plt.plot(tree, accuracy_tree)\n",
        "plt.title('Decision tree on each model')\n",
        "plt.xlabel('DecisionTree Models')\n",
        "plt.ylabel('Accuracy')\n",
        "plt.show()"
      ],
      "execution_count": null,
      "outputs": [
        {
          "output_type": "display_data",
          "data": {
            "image/png": "[encoded data removed]",
            "text/plain": [
              "<Figure size 432x288 with 1 Axes>"
            ]
          },
          "metadata": {
            "tags": [],
            "needs_background": "light"
          }
        }
      ]
    },
    {
      "cell_type": "code",
      "metadata": {
        "colab": {
          "base_uri": "https://localhost:8080/",
          "height": 294
        },
        "id": "EUBMcNxMom9C",
        "outputId": "194e5205-eed9-4c7f-e648-b47b15366c3d"
      },
      "source": [
        "multinomialNB=['Multinomial Statement', 'Multinomial Paragraph', 'Multinomial fullText']\n",
        "accuracy_multinomialNB=[acc_multinomial, acc_para_multinomial, acc_fullText_multinomial]\n",
        "plt.plot(multinomialNB, accuracy_multinomialNB)\n",
        "plt.title('MultinomialNB on each model')\n",
        "plt.xlabel('MultinomialNB Models')\n",
        "plt.ylabel('Accuracy')\n",
        "plt.show()"
      ],
      "execution_count": null,
      "outputs": [
        {
          "output_type": "display_data",
          "data": {
            "image/png": "[encoded data removed]",
            "text/plain": [
              "<Figure size 432x288 with 1 Axes>"
            ]
          },
          "metadata": {
            "tags": [],
            "needs_background": "light"
          }
        }
      ]
    },
    {
      "cell_type": "markdown",
      "metadata": {
        "id": "vjexpYvqUB-0"
      },
      "source": [
        "### Neural Networks"
      ]
    },
    {
      "cell_type": "code",
      "metadata": {
        "id": "nZDJfRMw0AwK"
      },
      "source": [
        "max_sequence = 5000\n",
        "MAX_WORDS = 25000\n",
        "dimensions = 300\n",
        "TEST_SPLIT = 0.2"
      ],
      "execution_count": 16,
      "outputs": []
    },
    {
      "cell_type": "code",
      "metadata": {
        "id": "srAhIfwUmcPf"
      },
      "source": [
        "labels=train_data['label_fnn']"
      ],
      "execution_count": 17,
      "outputs": []
    },
    {
      "cell_type": "markdown",
      "metadata": {
        "id": "DU-h093OfE_V"
      },
      "source": [
        "#### refering to the specified link for tokenizing the statement column for Neural Networks.\n",
        "https://github.com/lutzhamel/fake-news/blob/master/fake-news-classification.ipynb"
      ]
    },
    {
      "cell_type": "code",
      "metadata": {
        "colab": {
          "base_uri": "https://localhost:8080/"
        },
        "id": "iJFLl_cZpArS",
        "outputId": "23ad1322-6837-4449-ef7d-eff5a5fa485e"
      },
      "source": [
        "from keras.preprocessing.text import Tokenizer\n",
        "from keras.preprocessing.sequence import pad_sequences\n",
        "from keras.utils import to_categorical\n",
        "\n",
        "tokenizer = Tokenizer(num_words=MAX_WORDS)\n",
        "tokenizer.fit_on_texts(train_data['statement'])\n",
        "sequences = tokenizer.texts_to_sequences(train_data['statement'])\n",
        "\n",
        "word_index = tokenizer.word_index\n",
        "num_words = min(MAX_WORDS, len(word_index)) + 1\n",
        "data = pad_sequences(sequences, \n",
        "                     maxlen=max_sequence, \n",
        "                     padding='pre', \n",
        "                     truncating='pre')\n",
        "\n",
        "print('Found %s unique tokens.' % len(word_index))\n",
        "print('Shape of data tensor:', data.shape)\n",
        "print('Shape of label tensor:', labels.shape)"
      ],
      "execution_count": 18,
      "outputs": [
        {
          "output_type": "stream",
          "text": [
            "Found 11646 unique tokens.\n",
            "Shape of data tensor: (15212, 5000)\n",
            "Shape of label tensor: (15212,)\n"
          ],
          "name": "stdout"
        }
      ]
    },
    {
      "cell_type": "markdown",
      "metadata": {
        "id": "WIPHal3hfRMt"
      },
      "source": [
        "### Building the first model with one convolution layer, one maxpooling and 2 dense layers."
      ]
    },
    {
      "cell_type": "markdown",
      "metadata": {
        "id": "W7soK862iHJv"
      },
      "source": [
        "https://github.com/lutzhamel/fake-news/blob/master/fake-news-classification.ipynb"
      ]
    },
    {
      "cell_type": "code",
      "metadata": {
        "colab": {
          "base_uri": "https://localhost:8080/"
        },
        "id": "xyFZoRZz1lyB",
        "outputId": "c4ac8bd6-9ab6-45bd-d935-cd682f933a14"
      },
      "source": [
        "from keras import layers\n",
        "from keras.models import Sequential\n",
        "\n",
        "model = Sequential(\n",
        "    [\n",
        "       \n",
        "        layers.Embedding(num_words,\n",
        "                         dimensions, \n",
        "                         input_length=max_sequence,\n",
        "                         trainable=True),\n",
        "        layers.Conv1D(128, 5, activation='relu'),\n",
        "        layers.GlobalMaxPooling1D(),\n",
        "        \n",
        "       \n",
        "        layers.Dense(128, activation='relu'),\n",
        "        \n",
        "        layers.Dense(1, activation='sigmoid')\n",
        "    ])\n",
        "\n",
        "model.compile(loss='binary_crossentropy',\n",
        "              optimizer='rmsprop',\n",
        "              metrics=['accuracy'])\n",
        "\n",
        "model.summary()"
      ],
      "execution_count": 19,
      "outputs": [
        {
          "output_type": "stream",
          "text": [
            "Model: \"sequential\"\n",
            "_________________________________________________________________\n",
            "Layer (type)                 Output Shape              Param #   \n",
            "=================================================================\n",
            "embedding (Embedding)        (None, 5000, 300)         3494100   \n",
            "_________________________________________________________________\n",
            "conv1d (Conv1D)              (None, 4996, 128)         192128    \n",
            "_________________________________________________________________\n",
            "global_max_pooling1d (Global (None, 128)               0         \n",
            "_________________________________________________________________\n",
            "dense (Dense)                (None, 128)               16512     \n",
            "_________________________________________________________________\n",
            "dense_1 (Dense)              (None, 1)                 129       \n",
            "=================================================================\n",
            "Total params: 3,702,869\n",
            "Trainable params: 3,702,869\n",
            "Non-trainable params: 0\n",
            "_________________________________________________________________\n"
          ],
          "name": "stdout"
        }
      ]
    },
    {
      "cell_type": "code",
      "metadata": {
        "id": "GlJfxIlcMoAb"
      },
      "source": [
        " from sklearn.model_selection import train_test_split\n",
        "\n",
        "x_train, x_val, y_train, y_val = train_test_split(data, \n",
        "                                                  labels,\n",
        "                                                  test_size=TEST_SPLIT)"
      ],
      "execution_count": 20,
      "outputs": []
    },
    {
      "cell_type": "markdown",
      "metadata": {
        "id": "E6qu8EIefaT6"
      },
      "source": [
        "### fitting the model using 64 as batch size."
      ]
    },
    {
      "cell_type": "code",
      "metadata": {
        "colab": {
          "base_uri": "https://localhost:8080/"
        },
        "id": "3iHCrHFTKfEY",
        "outputId": "4fce5d5b-9c62-472b-fce8-bcf3d1bd0603"
      },
      "source": [
        "history = model.fit(x_train, \n",
        "                    y_train,\n",
        "                    batch_size=64,\n",
        "                    epochs=5,\n",
        "                    validation_data=(x_val, y_val))"
      ],
      "execution_count": 57,
      "outputs": [
        {
          "output_type": "stream",
          "text": [
            "Epoch 1/5\n",
            "191/191 [==============================] - 79s 412ms/step - loss: 0.3880 - accuracy: 0.8357 - val_loss: 0.8806 - val_accuracy: 0.5800\n",
            "Epoch 2/5\n",
            "191/191 [==============================] - 79s 411ms/step - loss: 0.1164 - accuracy: 0.9675 - val_loss: 1.1792 - val_accuracy: 0.5685\n",
            "Epoch 3/5\n",
            "191/191 [==============================] - 78s 410ms/step - loss: 0.0257 - accuracy: 0.9937 - val_loss: 1.5665 - val_accuracy: 0.5820\n",
            "Epoch 4/5\n",
            "191/191 [==============================] - 78s 410ms/step - loss: 0.0089 - accuracy: 0.9984 - val_loss: 1.5621 - val_accuracy: 0.5905\n",
            "Epoch 5/5\n",
            "191/191 [==============================] - 78s 409ms/step - loss: 0.0059 - accuracy: 0.9987 - val_loss: 1.9126 - val_accuracy: 0.5984\n"
          ],
          "name": "stdout"
        }
      ]
    },
    {
      "cell_type": "markdown",
      "metadata": {
        "id": "fEDPAzgxfgUb"
      },
      "source": [
        "### fiiting the second model with 128 batch size"
      ]
    },
    {
      "cell_type": "code",
      "metadata": {
        "colab": {
          "base_uri": "https://localhost:8080/"
        },
        "id": "h6YUmh8u9S5v",
        "outputId": "83db6fa8-0bd8-4715-fd93-d5c926c1243c"
      },
      "source": [
        "history = model.fit(x_train, \n",
        "                    y_train,\n",
        "                    batch_size=128,\n",
        "                    epochs=5,\n",
        "                    validation_data=(x_val, y_val))"
      ],
      "execution_count": null,
      "outputs": [
        {
          "output_type": "stream",
          "text": [
            "Epoch 1/5\n",
            "96/96 [==============================] - 58s 583ms/step - loss: 0.0036 - accuracy: 0.9995 - val_loss: 1.4575 - val_accuracy: 0.6214\n",
            "Epoch 2/5\n",
            "96/96 [==============================] - 55s 578ms/step - loss: 9.0356e-04 - accuracy: 0.9999 - val_loss: 1.7901 - val_accuracy: 0.6188\n",
            "Epoch 3/5\n",
            "96/96 [==============================] - 55s 577ms/step - loss: 3.6118e-04 - accuracy: 0.9999 - val_loss: 1.8051 - val_accuracy: 0.6221\n",
            "Epoch 4/5\n",
            "96/96 [==============================] - 55s 578ms/step - loss: 8.8413e-05 - accuracy: 1.0000 - val_loss: 1.9134 - val_accuracy: 0.6178\n",
            "Epoch 5/5\n",
            "96/96 [==============================] - 55s 578ms/step - loss: 2.9843e-04 - accuracy: 0.9998 - val_loss: 2.0889 - val_accuracy: 0.6122\n"
          ],
          "name": "stdout"
        }
      ]
    },
    {
      "cell_type": "code",
      "metadata": {
        "colab": {
          "base_uri": "https://localhost:8080/",
          "height": 390
        },
        "id": "9XMxViDALyp8",
        "outputId": "fc045efe-0488-48a9-f668-37fad47d3f5b"
      },
      "source": [
        "plt.figure(figsize=(16,6))\n",
        "plt.plot(history.history['val_accuracy'], label='val_acc')\n",
        "plt.plot(history.history['accuracy'], label='train_acc')\n",
        "plt.legend()"
      ],
      "execution_count": null,
      "outputs": [
        {
          "output_type": "execute_result",
          "data": {
            "text/plain": [
              "<matplotlib.legend.Legend at 0x7f74504b59d0>"
            ]
          },
          "metadata": {
            "tags": []
          },
          "execution_count": 102
        },
        {
          "output_type": "display_data",
          "data": {
            "image/png": "[encoded data removed]",
            "text/plain": [
              "<Figure size 1152x432 with 1 Axes>"
            ]
          },
          "metadata": {
            "tags": [],
            "needs_background": "light"
          }
        }
      ]
    },
    {
      "cell_type": "markdown",
      "metadata": {
        "id": "57TQ2vjcfl3T"
      },
      "source": [
        "### splotting training and validation accuracies through 5 *epochs*"
      ]
    },
    {
      "cell_type": "code",
      "metadata": {
        "colab": {
          "base_uri": "https://localhost:8080/",
          "height": 293
        },
        "id": "rtkC91Z_MWGs",
        "outputId": "ea5f2205-8933-4202-d4d0-a1d458e754aa"
      },
      "source": [
        "plt.plot(history.history['accuracy'], label='train_acc')\n",
        "plt.legend()"
      ],
      "execution_count": null,
      "outputs": [
        {
          "output_type": "execute_result",
          "data": {
            "text/plain": [
              "<matplotlib.legend.Legend at 0x7f7450437390>"
            ]
          },
          "metadata": {
            "tags": []
          },
          "execution_count": 103
        },
        {
          "output_type": "display_data",
          "data": {
            "image/png": "[encoded data removed]",
            "text/plain": [
              "<Figure size 432x288 with 1 Axes>"
            ]
          },
          "metadata": {
            "tags": [],
            "needs_background": "light"
          }
        }
      ]
    },
    {
      "cell_type": "code",
      "metadata": {
        "colab": {
          "base_uri": "https://localhost:8080/",
          "height": 282
        },
        "id": "xA4OcSUaMbIm",
        "outputId": "135fceeb-8a1b-4a9f-f4fd-f5b537e5a683"
      },
      "source": [
        "plt.plot(history.history['val_accuracy'], label='val_acc')\n",
        "plt.legend()"
      ],
      "execution_count": null,
      "outputs": [
        {
          "output_type": "execute_result",
          "data": {
            "text/plain": [
              "<matplotlib.legend.Legend at 0x7f7450357750>"
            ]
          },
          "metadata": {
            "tags": []
          },
          "execution_count": 104
        },
        {
          "output_type": "display_data",
          "data": {
            "image/png": "[encoded data removed]",
            "text/plain": [
              "<Figure size 432x288 with 1 Axes>"
            ]
          },
          "metadata": {
            "tags": [],
            "needs_background": "light"
          }
        }
      ]
    },
    {
      "cell_type": "markdown",
      "metadata": {
        "id": "-qPZXTrxnOWq"
      },
      "source": [
        "### Combining and shuffling train and test datasets for better results"
      ]
    },
    {
      "cell_type": "markdown",
      "metadata": {
        "id": "5D6raYSxUdSY"
      },
      "source": [
        "Step 1: merging training and testing data"
      ]
    },
    {
      "cell_type": "code",
      "metadata": {
        "id": "znypdImnUiMW"
      },
      "source": [
        "combined_df=pd.concat([train_data, test_data], ignore_index=True)"
      ],
      "execution_count": 21,
      "outputs": []
    },
    {
      "cell_type": "code",
      "metadata": {
        "colab": {
          "base_uri": "https://localhost:8080/"
        },
        "id": "PoeVKq9QUy00",
        "outputId": "ff31f037-6f91-4e5f-8725-a39271e4da99"
      },
      "source": [
        "combined_df.shape"
      ],
      "execution_count": 22,
      "outputs": [
        {
          "output_type": "execute_result",
          "data": {
            "text/plain": [
              "(16266, 6)"
            ]
          },
          "metadata": {
            "tags": []
          },
          "execution_count": 22
        }
      ]
    },
    {
      "cell_type": "code",
      "metadata": {
        "id": "_rUvE4FsvFd9"
      },
      "source": [
        "labels_combined=combined_df['label_fnn']"
      ],
      "execution_count": 23,
      "outputs": []
    },
    {
      "cell_type": "code",
      "metadata": {
        "id": "0LHuk8tJHWql"
      },
      "source": [
        "combined_df['label_fnn'].replace({'fake': 0, 'real': 1}, inplace=True)"
      ],
      "execution_count": 46,
      "outputs": []
    },
    {
      "cell_type": "code",
      "metadata": {
        "colab": {
          "base_uri": "https://localhost:8080/",
          "height": 174
        },
        "id": "yT3A9DoLGap3",
        "outputId": "d5dc4b9a-0371-4ae6-8214-b66adc13e4ef"
      },
      "source": [
        "combined_df.head(4)"
      ],
      "execution_count": 47,
      "outputs": [
        {
          "output_type": "execute_result",
          "data": {
            "text/html": [
              "<div>\n",
              "<style scoped>\n",
              "    .dataframe tbody tr th:only-of-type {\n",
              "        vertical-align: middle;\n",
              "    }\n",
              "\n",
              "    .dataframe tbody tr th {\n",
              "        vertical-align: top;\n",
              "    }\n",
              "\n",
              "    .dataframe thead th {\n",
              "        text-align: right;\n",
              "    }\n",
              "</style>\n",
              "<table border=\"1\" class=\"dataframe\">\n",
              "  <thead>\n",
              "    <tr style=\"text-align: right;\">\n",
              "      <th></th>\n",
              "      <th>speaker</th>\n",
              "      <th>statement</th>\n",
              "      <th>paragraph_based_content</th>\n",
              "      <th>fullText_based_content</th>\n",
              "      <th>label_fnn</th>\n",
              "      <th>source</th>\n",
              "    </tr>\n",
              "  </thead>\n",
              "  <tbody>\n",
              "    <tr>\n",
              "      <th>0</th>\n",
              "      <td>Joe Wilkinson</td>\n",
              "      <td>national organization say georgia one america ...</td>\n",
              "      <td>coalition government watchdog group last week ...</td>\n",
              "      <td>coalition government watchdog group last week ...</td>\n",
              "      <td>0</td>\n",
              "      <td>www.ajc.com</td>\n",
              "    </tr>\n",
              "    <tr>\n",
              "      <th>1</th>\n",
              "      <td>Rick Scott</td>\n",
              "      <td>say barack obama health care law big job kille...</td>\n",
              "      <td>supreme court justice embark three day oral ar...</td>\n",
              "      <td>supreme court justice embark three day oral ar...</td>\n",
              "      <td>0</td>\n",
              "      <td>www.youtube.com</td>\n",
              "    </tr>\n",
              "    <tr>\n",
              "      <th>2</th>\n",
              "      <td>J.D. Alexander</td>\n",
              "      <td>say southwest florida water management distric...</td>\n",
              "      <td>new one senate budget committee chairman say w...</td>\n",
              "      <td>new one senate budget committee chairman say w...</td>\n",
              "      <td>0</td>\n",
              "      <td>www.tampabay.com</td>\n",
              "    </tr>\n",
              "    <tr>\n",
              "      <th>3</th>\n",
              "      <td>Paul Ryan</td>\n",
              "      <td>congressional budget office economic model mea...</td>\n",
              "      <td>recently house budget chairman paul ryan wi al...</td>\n",
              "      <td>recently house budget chairman paul ryan wi al...</td>\n",
              "      <td>1</td>\n",
              "      <td>www.cnn.com</td>\n",
              "    </tr>\n",
              "  </tbody>\n",
              "</table>\n",
              "</div>"
            ],
            "text/plain": [
              "          speaker  ...            source\n",
              "0   Joe Wilkinson  ...       www.ajc.com\n",
              "1      Rick Scott  ...   www.youtube.com\n",
              "2  J.D. Alexander  ...  www.tampabay.com\n",
              "3       Paul Ryan  ...       www.cnn.com\n",
              "\n",
              "[4 rows x 6 columns]"
            ]
          },
          "metadata": {
            "tags": []
          },
          "execution_count": 47
        }
      ]
    },
    {
      "cell_type": "code",
      "metadata": {
        "id": "-ByqyjHRutCq"
      },
      "source": [
        "from keras.layers import Input, Dense, Embedding, Conv2D, MaxPool2D\n",
        "from keras.layers import Reshape, Flatten, Dropout, Concatenate\n",
        "from keras.callbacks import ModelCheckpoint\n",
        "from keras.optimizers import Adam\n",
        "from keras.models import Model\n",
        "from sklearn.model_selection import train_test_split"
      ],
      "execution_count": 24,
      "outputs": []
    },
    {
      "cell_type": "markdown",
      "metadata": {
        "id": "um4Tj3Q2hyOe"
      },
      "source": [
        "https://github.com/AIRLegend/fakenews/blob/master/notebooks/Train_Colab_Binary.ipynb"
      ]
    },
    {
      "cell_type": "code",
      "metadata": {
        "colab": {
          "base_uri": "https://localhost:8080/"
        },
        "id": "hnVZBOlvwg9m",
        "outputId": "515c94b3-a77f-4d81-cbf5-c90e18034dcd"
      },
      "source": [
        "tokenizer = Tokenizer(num_words=MAX_WORDS)\n",
        "tokenizer.fit_on_texts(combined_df['statement'])\n",
        "sequences = tokenizer.texts_to_sequences(combined_df['statement'])\n",
        "\n",
        "word_index = tokenizer.word_index\n",
        "num_words = min(MAX_WORDS, len(word_index)) + 1\n",
        "data_combined = pad_sequences(sequences, \n",
        "                     maxlen=max_sequence, \n",
        "                     padding='pre', \n",
        "                     truncating='pre')\n",
        "\n",
        "print('Found %s unique tokens.' % len(word_index))\n",
        "print('Shape of data tensor:', data_combined.shape)\n",
        "print('Shape of label tensor:', labels_combined.shape)"
      ],
      "execution_count": 48,
      "outputs": [
        {
          "output_type": "stream",
          "text": [
            "Found 12043 unique tokens.\n",
            "Shape of data tensor: (16266, 5000)\n",
            "Shape of label tensor: (16266,)\n"
          ],
          "name": "stdout"
        }
      ]
    },
    {
      "cell_type": "markdown",
      "metadata": {
        "id": "uIdCP-u0f3KE"
      },
      "source": [
        "### splitting the combined data into train, test data"
      ]
    },
    {
      "cell_type": "code",
      "metadata": {
        "id": "Gm6-nswTu4KZ"
      },
      "source": [
        "xtrain, xtest, ytrain, ytest = train_test_split(data_combined, \n",
        "                                                  labels_combined,\n",
        "                                                  test_size=TEST_SPLIT)"
      ],
      "execution_count": 49,
      "outputs": []
    },
    {
      "cell_type": "code",
      "metadata": {
        "id": "VuV5oGRNIKqy"
      },
      "source": [
        "##ytrain = np.asarray(ytrain).astype('float32').reshape((-1,1))\n",
        "##ytest = np.asarray(ytest).astype('float32').reshape((-1,1))"
      ],
      "execution_count": 27,
      "outputs": []
    },
    {
      "cell_type": "code",
      "metadata": {
        "colab": {
          "base_uri": "https://localhost:8080/"
        },
        "id": "vKWHa_nCH_4s",
        "outputId": "0f642591-551d-4688-dee0-bda7775e09ae"
      },
      "source": [
        "print(xtrain.shape)\n",
        "print(ytrain.shape)"
      ],
      "execution_count": 36,
      "outputs": [
        {
          "output_type": "stream",
          "text": [
            "(13012, 5000)\n",
            "(13012,)\n"
          ],
          "name": "stdout"
        }
      ]
    },
    {
      "cell_type": "markdown",
      "metadata": {
        "id": "aB3j5XrSf9gq"
      },
      "source": [
        "### Building first LSTM model with 2 convolution layers, 2 maxpooling layers, one LSTM and 4 dense layers."
      ]
    },
    {
      "cell_type": "markdown",
      "metadata": {
        "id": "Iq0sbWiChlxu"
      },
      "source": [
        "#### refering the model from provided link\n",
        "https://github.com/LeadingIndiaAI/-Fake-News-Detection-/blob/master/LSTM-Conv.ipynb"
      ]
    },
    {
      "cell_type": "code",
      "metadata": {
        "colab": {
          "base_uri": "https://localhost:8080/"
        },
        "id": "pPOApMa0Auyn",
        "outputId": "4a93acc2-b717-4fc4-d01c-fb239b46a2f4"
      },
      "source": [
        "model_LSTM = Sequential(\n",
        "    [\n",
        "        \n",
        "        layers.Embedding(num_words,\n",
        "                         dimensions, \n",
        "                         input_length=max_sequence,\n",
        "                         trainable=True),\n",
        "        layers.Dropout(0.2),\n",
        "        layers.Conv1D(filters=32, kernel_size=5, padding='same', activation='relu'),\n",
        "        layers.MaxPooling1D(pool_size=2),\n",
        "        layers.Conv1D(filters=64, kernel_size=3, padding='same', activation='relu'),\n",
        "        layers.MaxPooling1D(pool_size=2),\n",
        "        layers.LSTM(128, dropout=0.2, recurrent_dropout=0.2),\n",
        "        layers.BatchNormalization(),\n",
        "        layers.Dense(256, activation='relu'),\n",
        "        layers.Dense(128, activation='relu'),\n",
        "        layers.Dense(64, activation='relu'),\n",
        "        layers.Dense(1, activation='softmax')\n",
        "    ])\n",
        "\n",
        "model_LSTM.compile(loss='binary_crossentropy',\n",
        "              optimizer='rmsprop',\n",
        "              metrics=['accuracy'])\n",
        "\n",
        "model_LSTM.summary()"
      ],
      "execution_count": 50,
      "outputs": [
        {
          "output_type": "stream",
          "text": [
            "WARNING:tensorflow:Layer lstm_2 will not use cuDNN kernel since it doesn't meet the cuDNN kernel criteria. It will use generic GPU kernel as fallback when running on GPU\n",
            "Model: \"sequential_3\"\n",
            "_________________________________________________________________\n",
            "Layer (type)                 Output Shape              Param #   \n",
            "=================================================================\n",
            "embedding_3 (Embedding)      (None, 5000, 300)         3613200   \n",
            "_________________________________________________________________\n",
            "dropout_2 (Dropout)          (None, 5000, 300)         0         \n",
            "_________________________________________________________________\n",
            "conv1d_5 (Conv1D)            (None, 5000, 32)          48032     \n",
            "_________________________________________________________________\n",
            "max_pooling1d_4 (MaxPooling1 (None, 2500, 32)          0         \n",
            "_________________________________________________________________\n",
            "conv1d_6 (Conv1D)            (None, 2500, 64)          6208      \n",
            "_________________________________________________________________\n",
            "max_pooling1d_5 (MaxPooling1 (None, 1250, 64)          0         \n",
            "_________________________________________________________________\n",
            "lstm_2 (LSTM)                (None, 128)               98816     \n",
            "_________________________________________________________________\n",
            "batch_normalization_2 (Batch (None, 128)               512       \n",
            "_________________________________________________________________\n",
            "dense_10 (Dense)             (None, 256)               33024     \n",
            "_________________________________________________________________\n",
            "dense_11 (Dense)             (None, 128)               32896     \n",
            "_________________________________________________________________\n",
            "dense_12 (Dense)             (None, 64)                8256      \n",
            "_________________________________________________________________\n",
            "dense_13 (Dense)             (None, 1)                 65        \n",
            "=================================================================\n",
            "Total params: 3,841,009\n",
            "Trainable params: 3,840,753\n",
            "Non-trainable params: 256\n",
            "_________________________________________________________________\n"
          ],
          "name": "stdout"
        }
      ]
    },
    {
      "cell_type": "code",
      "metadata": {
        "colab": {
          "base_uri": "https://localhost:8080/"
        },
        "id": "kBEyTgR8V6vE",
        "outputId": "5e53ba98-c60d-457a-b1f5-fc5576810dce"
      },
      "source": [
        "ytrain.shape"
      ],
      "execution_count": 51,
      "outputs": [
        {
          "output_type": "execute_result",
          "data": {
            "text/plain": [
              "(13012,)"
            ]
          },
          "metadata": {
            "tags": []
          },
          "execution_count": 51
        }
      ]
    },
    {
      "cell_type": "code",
      "metadata": {
        "id": "m5mc9t_OGHmZ"
      },
      "source": [
        "import numpy as np\n",
        "\n",
        "X = np.asarray(xtrain).astype(np.float32)"
      ],
      "execution_count": null,
      "outputs": []
    },
    {
      "cell_type": "code",
      "metadata": {
        "colab": {
          "base_uri": "https://localhost:8080/"
        },
        "id": "GxfVdK4fh7ab",
        "outputId": "3919dd9e-a10a-48df-e6c4-73a8f9e7aac1"
      },
      "source": [
        "history = model_LSTM.fit(X, \n",
        "                    ytrain,\n",
        "                    batch_size=64,\n",
        "                    epochs=4,\n",
        "                    validation_data=(xtest, ytest))"
      ],
      "execution_count": 54,
      "outputs": [
        {
          "output_type": "stream",
          "text": [
            "Epoch 1/4\n",
            "204/204 [==============================] - 1303s 6s/step - loss: 0.6942 - accuracy: 0.4993 - val_loss: 0.6930 - val_accuracy: 0.5037\n",
            "Epoch 2/4\n",
            "204/204 [==============================] - 1224s 6s/step - loss: 0.6909 - accuracy: 0.5028 - val_loss: 0.6932 - val_accuracy: 0.5037\n",
            "Epoch 3/4\n",
            "204/204 [==============================] - 1181s 6s/step - loss: 0.6159 - accuracy: 0.5083 - val_loss: 0.7374 - val_accuracy: 0.5037\n",
            "Epoch 4/4\n",
            "204/204 [==============================] - 1188s 6s/step - loss: 0.3793 - accuracy: 0.4966 - val_loss: 1.2233 - val_accuracy: 0.5037\n"
          ],
          "name": "stdout"
        }
      ]
    },
    {
      "cell_type": "markdown",
      "metadata": {
        "id": "49CkOECHhb_x"
      },
      "source": [
        "### plotting validation accuracy vs training validation."
      ]
    },
    {
      "cell_type": "code",
      "metadata": {
        "colab": {
          "base_uri": "https://localhost:8080/",
          "height": 390
        },
        "id": "fv3fAltMVjyT",
        "outputId": "2d1591da-8b0a-443b-8cbf-7d98a522a3d5"
      },
      "source": [
        "plt.figure(figsize=(16,6))\n",
        "plt.plot(history.history['val_accuracy'], label='val_acc')\n",
        "plt.plot(history.history['accuracy'], label='train_acc')\n",
        "plt.legend()"
      ],
      "execution_count": 55,
      "outputs": [
        {
          "output_type": "execute_result",
          "data": {
            "text/plain": [
              "<matplotlib.legend.Legend at 0x7f0dec8239d0>"
            ]
          },
          "metadata": {
            "tags": []
          },
          "execution_count": 55
        },
        {
          "output_type": "display_data",
          "data": {
            "image/png": "[encoded data removed]",
            "text/plain": [
              "<Figure size 1152x432 with 1 Axes>"
            ]
          },
          "metadata": {
            "tags": [],
            "needs_background": "light"
          }
        }
      ]
    },
    {
      "cell_type": "code",
      "metadata": {
        "colab": {
          "base_uri": "https://localhost:8080/",
          "height": 390
        },
        "id": "yMSU4haZayL5",
        "outputId": "894a292e-4c21-48e5-d09a-d6390a1891d8"
      },
      "source": [
        "plt.figure(figsize=(16,6))\n",
        "plt.plot(history.history['val_accuracy'], label='val_acc')"
      ],
      "execution_count": 56,
      "outputs": [
        {
          "output_type": "execute_result",
          "data": {
            "text/plain": [
              "[<matplotlib.lines.Line2D at 0x7f0dec2c6d10>]"
            ]
          },
          "metadata": {
            "tags": []
          },
          "execution_count": 56
        },
        {
          "output_type": "display_data",
          "data": {
            "image/png": "[encoded data removed]",
            "text/plain": [
              "<Figure size 1152x432 with 1 Axes>"
            ]
          },
          "metadata": {
            "tags": [],
            "needs_background": "light"
          }
        }
      ]
    },
    {
      "cell_type": "code",
      "metadata": {
        "id": "sHzVeFmBifwk"
      },
      "source": [
        "plt.plot(history.history['accuracy'], label='train_acc')\n",
        "plt.legend()"
      ],
      "execution_count": null,
      "outputs": []
    },
    {
      "cell_type": "code",
      "metadata": {
        "id": "XvIQyzbKistz"
      },
      "source": [
        "plt.plot(history.history['val_accuracy'], label='val_acc')\n",
        "plt.legend()"
      ],
      "execution_count": null,
      "outputs": []
    },
    {
      "cell_type": "markdown",
      "metadata": {
        "id": "SJeOdVhWhH3o"
      },
      "source": [
        "### Building second LSTM model with 1 convolution layer, 1 maxpooling layers, 3 batchnormalization layers, 3 LSTMs and 4 dense layers."
      ]
    },
    {
      "cell_type": "code",
      "metadata": {
        "colab": {
          "base_uri": "https://localhost:8080/"
        },
        "id": "IpnXWDicV9SZ",
        "outputId": "6b3a069e-5f10-4287-e4b8-82a2622e3687"
      },
      "source": [
        "model_more_LSTM = Sequential(\n",
        "    [\n",
        "      \n",
        "        layers.Embedding(num_words,\n",
        "                         dimensions, \n",
        "                         input_length=max_sequence,\n",
        "                         trainable=True),\n",
        "        \n",
        "        layers.Conv1D(filters=64, kernel_size=5, padding='same', activation='relu'),\n",
        "        layers.MaxPooling1D(pool_size=2),\n",
        "        layers.LSTM(128, return_sequences=True, dropout=0.2, recurrent_dropout=0.2),\n",
        "        layers.BatchNormalization(),\n",
        "        layers.Dropout(0.2),\n",
        "        layers.LSTM(128, return_sequences=True, dropout=0.2, recurrent_dropout=0.2),\n",
        "        \n",
        "        layers.BatchNormalization(),\n",
        "        layers.Dropout(0.2),\n",
        "        layers.LSTM(128, dropout=0.2, recurrent_dropout=0.2),\n",
        "        \n",
        "        layers.BatchNormalization(),\n",
        "        layers.Dense(256, activation='relu'),\n",
        "        \n",
        "        layers.Dense(128, activation='relu'),\n",
        "        layers.Dense(64, activation='relu'),\n",
        "        layers.Dense(1, activation='softmax')\n",
        "    ])\n",
        "\n",
        "model_more_LSTM.compile(loss='binary_crossentropy',\n",
        "              optimizer='adam',\n",
        "              metrics=['accuracy'])\n",
        "\n",
        "model_more_LSTM.summary()"
      ],
      "execution_count": null,
      "outputs": [
        {
          "output_type": "stream",
          "text": [
            "WARNING:tensorflow:Layer lstm_1 will not use cuDNN kernel since it doesn't meet the cuDNN kernel criteria. It will use generic GPU kernel as fallback when running on GPU\n",
            "WARNING:tensorflow:Layer lstm_2 will not use cuDNN kernel since it doesn't meet the cuDNN kernel criteria. It will use generic GPU kernel as fallback when running on GPU\n",
            "WARNING:tensorflow:Layer lstm_3 will not use cuDNN kernel since it doesn't meet the cuDNN kernel criteria. It will use generic GPU kernel as fallback when running on GPU\n",
            "Model: \"sequential_2\"\n",
            "_________________________________________________________________\n",
            "Layer (type)                 Output Shape              Param #   \n",
            "=================================================================\n",
            "embedding_2 (Embedding)      (None, 5000, 300)         3613200   \n",
            "_________________________________________________________________\n",
            "conv1d_3 (Conv1D)            (None, 5000, 64)          96064     \n",
            "_________________________________________________________________\n",
            "max_pooling1d_2 (MaxPooling1 (None, 2500, 64)          0         \n",
            "_________________________________________________________________\n",
            "lstm_1 (LSTM)                (None, 2500, 128)         98816     \n",
            "_________________________________________________________________\n",
            "batch_normalization_1 (Batch (None, 2500, 128)         512       \n",
            "_________________________________________________________________\n",
            "dropout_1 (Dropout)          (None, 2500, 128)         0         \n",
            "_________________________________________________________________\n",
            "lstm_2 (LSTM)                (None, 2500, 128)         131584    \n",
            "_________________________________________________________________\n",
            "batch_normalization_2 (Batch (None, 2500, 128)         512       \n",
            "_________________________________________________________________\n",
            "dropout_2 (Dropout)          (None, 2500, 128)         0         \n",
            "_________________________________________________________________\n",
            "lstm_3 (LSTM)                (None, 128)               131584    \n",
            "_________________________________________________________________\n",
            "batch_normalization_3 (Batch (None, 128)               512       \n",
            "_________________________________________________________________\n",
            "dense_6 (Dense)              (None, 256)               33024     \n",
            "_________________________________________________________________\n",
            "dense_7 (Dense)              (None, 128)               32896     \n",
            "_________________________________________________________________\n",
            "dense_8 (Dense)              (None, 64)                8256      \n",
            "_________________________________________________________________\n",
            "dense_9 (Dense)              (None, 1)                 65        \n",
            "=================================================================\n",
            "Total params: 4,147,025\n",
            "Trainable params: 4,146,257\n",
            "Non-trainable params: 768\n",
            "_________________________________________________________________\n"
          ],
          "name": "stdout"
        }
      ]
    },
    {
      "cell_type": "code",
      "metadata": {
        "id": "KyNvPJRQnpx8",
        "colab": {
          "base_uri": "https://localhost:8080/"
        },
        "outputId": "4a12e2ea-2367-40df-df8b-7b3bd94461c0"
      },
      "source": [
        "model_more_LSTM.fit(xtrain, \n",
        "                    ytrain,\n",
        "                    batch_size=64,\n",
        "                    epochs=2)"
      ],
      "execution_count": null,
      "outputs": [
        {
          "output_type": "stream",
          "text": [
            "Epoch 1/2\n",
            "204/204 [==============================] - 5094s 25s/step - loss: 0.6948 - accuracy: 0.5061\n",
            "Epoch 2/2\n",
            "204/204 [==============================] - 4964s 24s/step - loss: 0.6638 - accuracy: 0.5061\n"
          ],
          "name": "stdout"
        },
        {
          "output_type": "execute_result",
          "data": {
            "text/plain": [
              "<tensorflow.python.keras.callbacks.History at 0x7f7459b55690>"
            ]
          },
          "metadata": {
            "tags": []
          },
          "execution_count": 94
        }
      ]
    },
    {
      "cell_type": "code",
      "metadata": {
        "id": "8z-lmeCG33wH"
      },
      "source": [
        ""
      ],
      "execution_count": null,
      "outputs": []
    }
  ]
}