{
  "nbformat": 4,
  "nbformat_minor": 0,
  "metadata": {
    "colab": {
      "name": "supervised_machine_learning_models.ipynb",
      "provenance": [],
      "collapsed_sections": [],
      "toc_visible": true
    },
    "kernelspec": {
      "name": "python3",
      "display_name": "Python 3"
    }
  },
  "cells": [
    {
      "cell_type": "code",
      "metadata": {
        "colab": {
          "base_uri": "https://localhost:8080/"
        },
        "id": "kgoOrtFZ1zMP",
        "outputId": "9ce05605-0114-41af-a7e8-b1f3a2a9920d"
      },
      "source": [
        "from google.colab import drive\n",
        "drive.mount('drive')"
      ],
      "execution_count": 1,
      "outputs": [
        {
          "output_type": "stream",
          "text": [
            "Drive already mounted at drive; to attempt to forcibly remount, call drive.mount(\"drive\", force_remount=True).\n"
          ],
          "name": "stdout"
        }
      ]
    },
    {
      "cell_type": "code",
      "metadata": {
        "id": "LsIeBJq815Bl"
      },
      "source": [
        "import pandas as pd\n",
        "import numpy as np\n",
        "import matplotlib.pyplot as plt"
      ],
      "execution_count": 2,
      "outputs": []
    },
    {
      "cell_type": "code",
      "metadata": {
        "id": "CPUJT4q_4dpC"
      },
      "source": [
        "from tensorflow.keras.layers import Embedding\n",
        "from tensorflow.keras.preprocessing.sequence import pad_sequences\n",
        "from tensorflow.keras.models import Sequential\n",
        "from tensorflow.keras.preprocessing.text import one_hot\n",
        "from tensorflow.keras.layers import LSTM\n",
        "from tensorflow.keras.layers import Dense\n",
        "from sklearn.linear_model import SGDClassifier, LogisticRegression\n",
        "from keras.utils import plot_model\n",
        "from sklearn.feature_extraction.text import CountVectorizer, TfidfTransformer\n",
        "from sklearn.svm import LinearSVC\n",
        "from sklearn.metrics import accuracy_score\n",
        "from sklearn.pipeline import Pipeline\n",
        "from sklearn import tree"
      ],
      "execution_count": 3,
      "outputs": []
    },
    {
      "cell_type": "code",
      "metadata": {
        "id": "Ef1WVSqE2JLh"
      },
      "source": [
        "train_data=pd.read_csv('/content/drive/MyDrive/cleaned_data.csv', index_col=0)"
      ],
      "execution_count": 4,
      "outputs": []
    },
    {
      "cell_type": "code",
      "metadata": {
        "id": "dE49V6Vc2zOt"
      },
      "source": [
        "test_data=pd.read_csv('/content/drive/MyDrive/cleanedTest_data.csv', index_col=0)"
      ],
      "execution_count": 5,
      "outputs": []
    },
    {
      "cell_type": "code",
      "metadata": {
        "colab": {
          "base_uri": "https://localhost:8080/",
          "height": 196
        },
        "id": "LBFtfRsV2Qyw",
        "outputId": "75d6043a-85af-494f-f81e-2903375b4c2c"
      },
      "source": [
        "train_data.head(3)"
      ],
      "execution_count": 6,
      "outputs": [
        {
          "output_type": "execute_result",
          "data": {
            "text/html": [
              "<div>\n",
              "<style scoped>\n",
              "    .dataframe tbody tr th:only-of-type {\n",
              "        vertical-align: middle;\n",
              "    }\n",
              "\n",
              "    .dataframe tbody tr th {\n",
              "        vertical-align: top;\n",
              "    }\n",
              "\n",
              "    .dataframe thead th {\n",
              "        text-align: right;\n",
              "    }\n",
              "</style>\n",
              "<table border=\"1\" class=\"dataframe\">\n",
              "  <thead>\n",
              "    <tr style=\"text-align: right;\">\n",
              "      <th></th>\n",
              "      <th>speaker</th>\n",
              "      <th>statement</th>\n",
              "      <th>paragraph_based_content</th>\n",
              "      <th>fullText_based_content</th>\n",
              "      <th>label_fnn</th>\n",
              "      <th>source</th>\n",
              "      <th>polarity</th>\n",
              "      <th>length</th>\n",
              "    </tr>\n",
              "  </thead>\n",
              "  <tbody>\n",
              "    <tr>\n",
              "      <th>0</th>\n",
              "      <td>Joe Wilkinson</td>\n",
              "      <td>national organization say georgia one america ...</td>\n",
              "      <td>coalition government watchdog group last week ...</td>\n",
              "      <td>coalition government watchdog group last week ...</td>\n",
              "      <td>fake</td>\n",
              "      <td>www.ajc.com</td>\n",
              "      <td>-0.027052</td>\n",
              "      <td>409</td>\n",
              "    </tr>\n",
              "    <tr>\n",
              "      <th>1</th>\n",
              "      <td>Rick Scott</td>\n",
              "      <td>say barack obama health care law big job kille...</td>\n",
              "      <td>supreme court justice embark three day oral ar...</td>\n",
              "      <td>supreme court justice embark three day oral ar...</td>\n",
              "      <td>fake</td>\n",
              "      <td>www.youtube.com</td>\n",
              "      <td>-0.062596</td>\n",
              "      <td>571</td>\n",
              "    </tr>\n",
              "    <tr>\n",
              "      <th>2</th>\n",
              "      <td>J.D. Alexander</td>\n",
              "      <td>say southwest florida water management distric...</td>\n",
              "      <td>new one senate budget committee chairman say w...</td>\n",
              "      <td>new one senate budget committee chairman say w...</td>\n",
              "      <td>fake</td>\n",
              "      <td>www.tampabay.com</td>\n",
              "      <td>0.037204</td>\n",
              "      <td>444</td>\n",
              "    </tr>\n",
              "  </tbody>\n",
              "</table>\n",
              "</div>"
            ],
            "text/plain": [
              "          speaker  ... length\n",
              "0   Joe Wilkinson  ...    409\n",
              "1      Rick Scott  ...    571\n",
              "2  J.D. Alexander  ...    444\n",
              "\n",
              "[3 rows x 8 columns]"
            ]
          },
          "metadata": {
            "tags": []
          },
          "execution_count": 6
        }
      ]
    },
    {
      "cell_type": "code",
      "metadata": {
        "colab": {
          "base_uri": "https://localhost:8080/",
          "height": 144
        },
        "id": "Tpv6MVpN2St6",
        "outputId": "5880604f-7455-4d1f-bae0-695c81398eb8"
      },
      "source": [
        "test_data.head(3)"
      ],
      "execution_count": 7,
      "outputs": [
        {
          "output_type": "execute_result",
          "data": {
            "text/html": [
              "<div>\n",
              "<style scoped>\n",
              "    .dataframe tbody tr th:only-of-type {\n",
              "        vertical-align: middle;\n",
              "    }\n",
              "\n",
              "    .dataframe tbody tr th {\n",
              "        vertical-align: top;\n",
              "    }\n",
              "\n",
              "    .dataframe thead th {\n",
              "        text-align: right;\n",
              "    }\n",
              "</style>\n",
              "<table border=\"1\" class=\"dataframe\">\n",
              "  <thead>\n",
              "    <tr style=\"text-align: right;\">\n",
              "      <th></th>\n",
              "      <th>speaker</th>\n",
              "      <th>statement</th>\n",
              "      <th>paragraph_based_content</th>\n",
              "      <th>fullText_based_content</th>\n",
              "      <th>label_fnn</th>\n",
              "      <th>source</th>\n",
              "    </tr>\n",
              "  </thead>\n",
              "  <tbody>\n",
              "    <tr>\n",
              "      <th>0</th>\n",
              "      <td>Jon Kyl</td>\n",
              "      <td>president obama attempt filibuster justice ali...</td>\n",
              "      <td>supreme court justice john paul stevens announ...</td>\n",
              "      <td>supreme court justice john paul stevens announ...</td>\n",
              "      <td>real</td>\n",
              "      <td>abcnews.go.com</td>\n",
              "    </tr>\n",
              "    <tr>\n",
              "      <th>1</th>\n",
              "      <td>Michael Steele</td>\n",
              "      <td>hawaii history throw incumbent office</td>\n",
              "      <td>abc week chairman republican democratic nation...</td>\n",
              "      <td>abc week chairman republican democratic nation...</td>\n",
              "      <td>real</td>\n",
              "      <td>www.starbulletin.com</td>\n",
              "    </tr>\n",
              "    <tr>\n",
              "      <th>2</th>\n",
              "      <td>John Boehner</td>\n",
              "      <td>national debt track exceed size entire economy...</td>\n",
              "      <td>ever since barack obama become president begin...</td>\n",
              "      <td>ever since barack obama become president begin...</td>\n",
              "      <td>real</td>\n",
              "      <td>www.desmoinesregister.com</td>\n",
              "    </tr>\n",
              "  </tbody>\n",
              "</table>\n",
              "</div>"
            ],
            "text/plain": [
              "          speaker  ...                     source\n",
              "0         Jon Kyl  ...             abcnews.go.com\n",
              "1  Michael Steele  ...       www.starbulletin.com\n",
              "2    John Boehner  ...  www.desmoinesregister.com\n",
              "\n",
              "[3 rows x 6 columns]"
            ]
          },
          "metadata": {
            "tags": []
          },
          "execution_count": 7
        }
      ]
    },
    {
      "cell_type": "code",
      "metadata": {
        "id": "Id-gFTpyiUXy"
      },
      "source": [
        ""
      ],
      "execution_count": 7,
      "outputs": []
    },
    {
      "cell_type": "code",
      "metadata": {
        "id": "hIq2nron28H7"
      },
      "source": [
        "train_data.drop(columns=['polarity', 'length'], inplace=True)"
      ],
      "execution_count": 8,
      "outputs": []
    },
    {
      "cell_type": "code",
      "metadata": {
        "id": "Of_fCgyo4RE0"
      },
      "source": [
        "vocab_size=500\n",
        "embedding_vector=10"
      ],
      "execution_count": 9,
      "outputs": []
    },
    {
      "cell_type": "markdown",
      "metadata": {
        "id": "_rZpBGBWJADK"
      },
      "source": [
        "### Model building on column statement for further comparison"
      ]
    },
    {
      "cell_type": "code",
      "metadata": {
        "id": "dqlDaOEv8OyJ"
      },
      "source": [
        "from sklearn.feature_extraction.text import CountVectorizer\n",
        "\n",
        "# data vectorizer\n",
        "vectorizer = CountVectorizer(analyzer = \"word\", \n",
        "                             binary = True, \n",
        "                             min_df =2,\n",
        "                             stop_words='english')\n",
        "array_sentence = vectorizer.fit_transform(train_data['statement']).toarray()\n",
        "training_data = pd.DataFrame(array_sentence, columns=vectorizer.get_feature_names())"
      ],
      "execution_count": 10,
      "outputs": []
    },
    {
      "cell_type": "code",
      "metadata": {
        "colab": {
          "base_uri": "https://localhost:8080/"
        },
        "id": "6prpYDdRvmgU",
        "outputId": "a72766cf-c8e9-4a03-81ce-78d4333a51b8"
      },
      "source": [
        "train_data.shape"
      ],
      "execution_count": 11,
      "outputs": [
        {
          "output_type": "execute_result",
          "data": {
            "text/plain": [
              "(15212, 6)"
            ]
          },
          "metadata": {
            "tags": []
          },
          "execution_count": 11
        }
      ]
    },
    {
      "cell_type": "code",
      "metadata": {
        "colab": {
          "base_uri": "https://localhost:8080/"
        },
        "id": "HK2TUqFNvqVa",
        "outputId": "0a467223-c36c-44a1-e29c-048e5b90edd9"
      },
      "source": [
        "training_data.shape"
      ],
      "execution_count": 12,
      "outputs": [
        {
          "output_type": "execute_result",
          "data": {
            "text/plain": [
              "(15212, 6623)"
            ]
          },
          "metadata": {
            "tags": []
          },
          "execution_count": 12
        }
      ]
    },
    {
      "cell_type": "code",
      "metadata": {
        "id": "1aymENQtvyH6"
      },
      "source": [
        "labels=train_data['label_fnn']"
      ],
      "execution_count": 13,
      "outputs": []
    },
    {
      "cell_type": "code",
      "metadata": {
        "id": "vM7UGL6bBnMw"
      },
      "source": [
        "train_data['label_fnn'].replace({'fake': 0, 'real': 1}, inplace=True)"
      ],
      "execution_count": 14,
      "outputs": []
    },
    {
      "cell_type": "markdown",
      "metadata": {
        "id": "jKu0JJXXqNfP"
      },
      "source": [
        "### Splitting the data into train and test data."
      ]
    },
    {
      "cell_type": "code",
      "metadata": {
        "id": "GVCWzzOou-Ah"
      },
      "source": [
        "from sklearn.model_selection import train_test_split\n",
        "X_train, X_test, y_train, y_test = train_test_split(training_data, labels, test_size=.2)"
      ],
      "execution_count": 15,
      "outputs": []
    },
    {
      "cell_type": "markdown",
      "metadata": {
        "id": "sRY-us8fqWeI"
      },
      "source": [
        "### Applying MultinomialNB to test out the suitability of descrete features in data."
      ]
    },
    {
      "cell_type": "code",
      "metadata": {
        "colab": {
          "base_uri": "https://localhost:8080/"
        },
        "id": "Pu9YjLvc7ajN",
        "outputId": "593a5090-12e8-4a8f-d9d2-e41139fac517"
      },
      "source": [
        "from sklearn.naive_bayes import MultinomialNB\n",
        "model = MultinomialNB()\n",
        "model.fit(X_train, y_train)"
      ],
      "execution_count": 16,
      "outputs": [
        {
          "output_type": "execute_result",
          "data": {
            "text/plain": [
              "MultinomialNB(alpha=1.0, class_prior=None, fit_prior=True)"
            ]
          },
          "metadata": {
            "tags": []
          },
          "execution_count": 16
        }
      ]
    },
    {
      "cell_type": "code",
      "metadata": {
        "id": "oTnWb1N-pkDr"
      },
      "source": [
        "y_predict_train = model.predict(X_train)\n",
        "train_acc = accuracy_score(y_train,y_predict_train)\n",
        "    \n",
        "    # testing error\n",
        "y_predict_test = model.predict(X_test)\n",
        "test_acc = accuracy_score(y_test,y_predict_test)"
      ],
      "execution_count": 17,
      "outputs": []
    },
    {
      "cell_type": "code",
      "metadata": {
        "colab": {
          "base_uri": "https://localhost:8080/"
        },
        "id": "6EcEYpbjpkIP",
        "outputId": "5a704c95-a4c1-4e98-9bcf-fc2c08e9640a"
      },
      "source": [
        "print(\"Training Accuracy: {:.2f}%\".format(train_acc*100))\n",
        "print(\"Testing Accuracy: {:.2f}%\".format(test_acc*100))"
      ],
      "execution_count": 18,
      "outputs": [
        {
          "output_type": "stream",
          "text": [
            "Training Accuracy: 74.30%\n",
            "Testing Accuracy: 61.55%\n"
          ],
          "name": "stdout"
        }
      ]
    },
    {
      "cell_type": "markdown",
      "metadata": {
        "id": "bO4Arfk7Cfh6"
      },
      "source": [
        "### Using different datasets, train_data for training and for test_data for testing."
      ]
    },
    {
      "cell_type": "markdown",
      "metadata": {
        "id": "vnnGJ79WrLlm"
      },
      "source": [
        "### Here I will be testing the accuracy for Linear, Logistic regression, Decision Tree and MultinomialNB and later compare the accuracy of each model."
      ]
    },
    {
      "cell_type": "code",
      "metadata": {
        "id": "JiOivP3Zlf_a"
      },
      "source": [
        "test_data['label_fnn'].replace({'fake': 0, 'real': 1}, inplace=True)"
      ],
      "execution_count": 22,
      "outputs": []
    },
    {
      "cell_type": "markdown",
      "metadata": {
        "id": "jz8AhfX8tl0h"
      },
      "source": [
        "### LinearSVC"
      ]
    },
    {
      "cell_type": "code",
      "metadata": {
        "id": "INCX6hna_X8t"
      },
      "source": [
        "pipeline_Linear = Pipeline([\n",
        "        ('bow', CountVectorizer()),  \n",
        "        ('tfidf', TfidfTransformer()),  \n",
        "        ('c', LinearSVC())\n",
        "    ])\n",
        "fit = pipeline_Linear.fit(train_data['statement'],train_data['label_fnn'])"
      ],
      "execution_count": 35,
      "outputs": []
    },
    {
      "cell_type": "code",
      "metadata": {
        "id": "sxTn55T0_YB0"
      },
      "source": [
        "pred=pipeline_Linear.predict(test_data['statement'])"
      ],
      "execution_count": 36,
      "outputs": []
    },
    {
      "cell_type": "markdown",
      "metadata": {
        "id": "_GR8gIs0sN2x"
      },
      "source": [
        "### Accuracy of LinearSVC "
      ]
    },
    {
      "cell_type": "code",
      "metadata": {
        "colab": {
          "base_uri": "https://localhost:8080/"
        },
        "id": "oFUf_v5N_YHV",
        "outputId": "f50e19f0-df9c-421a-e58b-4f1719343142"
      },
      "source": [
        "print(\"Accuracy : \",accuracy_score(pred,test_data['label_fnn']))\n",
        "acc_linear=accuracy_score(pred,test_data['label_fnn'])*100"
      ],
      "execution_count": 79,
      "outputs": [
        {
          "output_type": "stream",
          "text": [
            "Accuracy :  0.6736242884250474\n"
          ],
          "name": "stdout"
        }
      ]
    },
    {
      "cell_type": "markdown",
      "metadata": {
        "id": "_qC01coitqFl"
      },
      "source": [
        "### Logistic Regression"
      ]
    },
    {
      "cell_type": "code",
      "metadata": {
        "id": "RcoqPY9K_YLf"
      },
      "source": [
        "pipeline_Logistic = Pipeline([\n",
        "        ('bow', CountVectorizer()),  \n",
        "        ('tfidf', TfidfTransformer()),  \n",
        "        (('c', LogisticRegression()))\n",
        "    ])\n",
        "fit = pipeline_Logistic.fit(train_data['statement'],train_data['label_fnn'])"
      ],
      "execution_count": 38,
      "outputs": []
    },
    {
      "cell_type": "code",
      "metadata": {
        "id": "zyaOErPA_YPk"
      },
      "source": [
        "pred_logistic=pipeline_Logistic.predict(test_data['statement'])"
      ],
      "execution_count": 39,
      "outputs": []
    },
    {
      "cell_type": "markdown",
      "metadata": {
        "id": "SqNd_HUjtuZN"
      },
      "source": [
        "### Accuracy of Logistic Regression"
      ]
    },
    {
      "cell_type": "code",
      "metadata": {
        "colab": {
          "base_uri": "https://localhost:8080/"
        },
        "id": "JfIq9FTcHKLp",
        "outputId": "f0638747-08c4-4350-e9f7-8cd5bb44b86a"
      },
      "source": [
        "print(\"Accuracy : \",accuracy_score(pred_logistic,test_data['label_fnn']))\n",
        "acc_logistic=accuracy_score(pred_logistic,test_data['label_fnn'])*100"
      ],
      "execution_count": 78,
      "outputs": [
        {
          "output_type": "stream",
          "text": [
            "Accuracy :  0.683111954459203\n"
          ],
          "name": "stdout"
        }
      ]
    },
    {
      "cell_type": "markdown",
      "metadata": {
        "id": "kT9um5Lqt4-H"
      },
      "source": [
        "### Decision Tree"
      ]
    },
    {
      "cell_type": "code",
      "metadata": {
        "id": "ZTi4BlTkL8My"
      },
      "source": [
        "pipeline_decisiontree = Pipeline([\n",
        "        ('bow', CountVectorizer()),  \n",
        "        ('tfidf', TfidfTransformer()),  \n",
        "        ('c', tree.DecisionTreeClassifier())\n",
        "    ])\n",
        "fit = pipeline_decisiontree.fit(train_data['statement'],train_data['label_fnn'])"
      ],
      "execution_count": 27,
      "outputs": []
    },
    {
      "cell_type": "code",
      "metadata": {
        "id": "jQWWXkAqL8S7"
      },
      "source": [
        "pred_tree=pipeline_decisiontree.predict(test_data['statement'])"
      ],
      "execution_count": 28,
      "outputs": []
    },
    {
      "cell_type": "markdown",
      "metadata": {
        "id": "68Vj_eBOt-ij"
      },
      "source": [
        "### Accuracy"
      ]
    },
    {
      "cell_type": "code",
      "metadata": {
        "colab": {
          "base_uri": "https://localhost:8080/"
        },
        "id": "5bd6_h9IL8w_",
        "outputId": "ed05b511-0e0e-4307-a0f2-5fba73245972"
      },
      "source": [
        "print(\"Accuracy : \",accuracy_score(pred_tree,test_data['label_fnn']))\n",
        "acc_tree=accuracy_score(pred_tree,test_data['label_fnn'])*100"
      ],
      "execution_count": 77,
      "outputs": [
        {
          "output_type": "stream",
          "text": [
            "Accuracy :  0.6129032258064516\n"
          ],
          "name": "stdout"
        }
      ]
    },
    {
      "cell_type": "markdown",
      "metadata": {
        "id": "COMYBA68uIaM"
      },
      "source": [
        "### MultinomialNB"
      ]
    },
    {
      "cell_type": "code",
      "metadata": {
        "id": "fScLXP0MPp6I"
      },
      "source": [
        "pipeline_Multinomial = Pipeline([\n",
        "        ('bow', CountVectorizer()),  \n",
        "        ('tfidf', TfidfTransformer()),  \n",
        "        ('c', MultinomialNB())\n",
        "    ])\n",
        "fit = pipeline_Multinomial.fit(train_data['statement'],train_data['label_fnn'])"
      ],
      "execution_count": 41,
      "outputs": []
    },
    {
      "cell_type": "code",
      "metadata": {
        "id": "JOD6MCA8PqHr"
      },
      "source": [
        "pred_multinomial=pipeline_Multinomial.predict(test_data['statement'])"
      ],
      "execution_count": 42,
      "outputs": []
    },
    {
      "cell_type": "code",
      "metadata": {
        "colab": {
          "base_uri": "https://localhost:8080/"
        },
        "id": "TSLYpbk9PqBK",
        "outputId": "beda7f5e-7225-473e-d356-a6bf13b5bf90"
      },
      "source": [
        "print(\"Accuracy : \",accuracy_score(pred_multinomial,test_data['label_fnn']))\n",
        "acc_multinomial=accuracy_score(pred_multinomial,test_data['label_fnn'])*100"
      ],
      "execution_count": 74,
      "outputs": [
        {
          "output_type": "stream",
          "text": [
            "Accuracy :  0.7182163187855788\n"
          ],
          "name": "stdout"
        }
      ]
    },
    {
      "cell_type": "code",
      "metadata": {
        "id": "qy51U0yJclnQ"
      },
      "source": [
        "#make dataset here\n",
        "\n",
        "accuracy_data = {'Supervised ML Models':['Linear Regression', 'Logistic Regression', 'Decision Tree', 'Multinomial'],\n",
        "        'Accuracy':[acc_linear, acc_logistic, acc_tree, acc_multinomial]}\n",
        "  \n",
        "# Create DataFrame\n",
        "df_statement_accuracy = pd.DataFrame(accuracy_data)"
      ],
      "execution_count": 80,
      "outputs": []
    },
    {
      "cell_type": "markdown",
      "metadata": {
        "id": "8ngY8wj5uPJc"
      },
      "source": [
        "### comparing all the accuracies"
      ]
    },
    {
      "cell_type": "code",
      "metadata": {
        "colab": {
          "base_uri": "https://localhost:8080/",
          "height": 174
        },
        "id": "bRLF_WkxeKgS",
        "outputId": "34ccf45a-c2cd-4f09-de70-ac0446b06399"
      },
      "source": [
        "df_statement_accuracy"
      ],
      "execution_count": 81,
      "outputs": [
        {
          "output_type": "execute_result",
          "data": {
            "text/html": [
              "<div>\n",
              "<style scoped>\n",
              "    .dataframe tbody tr th:only-of-type {\n",
              "        vertical-align: middle;\n",
              "    }\n",
              "\n",
              "    .dataframe tbody tr th {\n",
              "        vertical-align: top;\n",
              "    }\n",
              "\n",
              "    .dataframe thead th {\n",
              "        text-align: right;\n",
              "    }\n",
              "</style>\n",
              "<table border=\"1\" class=\"dataframe\">\n",
              "  <thead>\n",
              "    <tr style=\"text-align: right;\">\n",
              "      <th></th>\n",
              "      <th>Supervised ML Models</th>\n",
              "      <th>Accuracy</th>\n",
              "    </tr>\n",
              "  </thead>\n",
              "  <tbody>\n",
              "    <tr>\n",
              "      <th>0</th>\n",
              "      <td>Linear Regression</td>\n",
              "      <td>67.362429</td>\n",
              "    </tr>\n",
              "    <tr>\n",
              "      <th>1</th>\n",
              "      <td>Logistic Regression</td>\n",
              "      <td>68.311195</td>\n",
              "    </tr>\n",
              "    <tr>\n",
              "      <th>2</th>\n",
              "      <td>Decision Tree</td>\n",
              "      <td>61.290323</td>\n",
              "    </tr>\n",
              "    <tr>\n",
              "      <th>3</th>\n",
              "      <td>Multinomial</td>\n",
              "      <td>71.821632</td>\n",
              "    </tr>\n",
              "  </tbody>\n",
              "</table>\n",
              "</div>"
            ],
            "text/plain": [
              "  Supervised ML Models   Accuracy\n",
              "0    Linear Regression  67.362429\n",
              "1  Logistic Regression  68.311195\n",
              "2        Decision Tree  61.290323\n",
              "3          Multinomial  71.821632"
            ]
          },
          "metadata": {
            "tags": []
          },
          "execution_count": 81
        }
      ]
    },
    {
      "cell_type": "markdown",
      "metadata": {
        "id": "f_hUN0dhuWuB"
      },
      "source": [
        "### Bar graph shows Decision tree has the lowest accuracy and MultinomialNB has the highest accuracy which explains it did good job in validating descrete features."
      ]
    },
    {
      "cell_type": "code",
      "metadata": {
        "colab": {
          "base_uri": "https://localhost:8080/",
          "height": 294
        },
        "id": "HQgv-5sYecar",
        "outputId": "281f760c-2780-4d9e-edfb-ba0bba41db77"
      },
      "source": [
        "plt.bar(df_statement_accuracy['Supervised ML Models'], df_statement_accuracy['Accuracy'])\n",
        "plt.title('Column = Statement')\n",
        "plt.xlabel('Models')\n",
        "plt.ylabel('Accuracy')\n",
        "plt.show()"
      ],
      "execution_count": 82,
      "outputs": [
        {
          "output_type": "display_data",
          "data": {
            "image/png": "[encoded data removed]",
            "text/plain": [
              "<Figure size 432x288 with 1 Axes>"
            ]
          },
          "metadata": {
            "tags": [],
            "needs_background": "light"
          }
        }
      ]
    },
    {
      "cell_type": "markdown",
      "metadata": {
        "id": "aYWNcBwcJ2qg"
      },
      "source": [
        "### Model building on column paragraph_based_content for further comparison"
      ]
    },
    {
      "cell_type": "code",
      "metadata": {
        "id": "aGG-3PhUMiAg"
      },
      "source": [
        "fit = pipeline_Linear.fit(train_data['paragraph_based_content'],train_data['label_fnn'])"
      ],
      "execution_count": 44,
      "outputs": []
    },
    {
      "cell_type": "code",
      "metadata": {
        "id": "yTNaWQkVR4uv"
      },
      "source": [
        "pred_para=pipeline_Linear.predict(test_data['paragraph_based_content'])"
      ],
      "execution_count": 45,
      "outputs": []
    },
    {
      "cell_type": "code",
      "metadata": {
        "colab": {
          "base_uri": "https://localhost:8080/"
        },
        "id": "mHXpiG-ySI3H",
        "outputId": "90ab6220-1867-4b03-82b8-8de222b4d4b8"
      },
      "source": [
        "print(\"Accuracy : \",accuracy_score(pred_para,test_data['label_fnn']))\n",
        "acc_para_linear=accuracy_score(pred_para,test_data['label_fnn'])*100"
      ],
      "execution_count": 83,
      "outputs": [
        {
          "output_type": "stream",
          "text": [
            "Accuracy :  0.8036053130929791\n"
          ],
          "name": "stdout"
        }
      ]
    },
    {
      "cell_type": "code",
      "metadata": {
        "id": "Vk_WTswoSOFY"
      },
      "source": [
        "fit = pipeline_Logistic.fit(train_data['paragraph_based_content'],train_data['label_fnn'])"
      ],
      "execution_count": 47,
      "outputs": []
    },
    {
      "cell_type": "code",
      "metadata": {
        "id": "KddnNQfBThSw"
      },
      "source": [
        "pred_logistic_para=pipeline_Logistic.predict(test_data['paragraph_based_content'])"
      ],
      "execution_count": 48,
      "outputs": []
    },
    {
      "cell_type": "code",
      "metadata": {
        "colab": {
          "base_uri": "https://localhost:8080/"
        },
        "id": "rfD0ZBXMTopb",
        "outputId": "a2be58c6-44ca-4965-bd1e-68a1eb3b54a5"
      },
      "source": [
        "print(\"Accuracy : \",accuracy_score(pred_logistic_para,test_data['label_fnn']))\n",
        "acc_para_logistic=accuracy_score(pred_logistic_para,test_data['label_fnn'])*100"
      ],
      "execution_count": 84,
      "outputs": [
        {
          "output_type": "stream",
          "text": [
            "Accuracy :  0.8045540796963947\n"
          ],
          "name": "stdout"
        }
      ]
    },
    {
      "cell_type": "code",
      "metadata": {
        "id": "s4-imNzxTtDY"
      },
      "source": [
        "fit = pipeline_decisiontree.fit(train_data['paragraph_based_content'],train_data['label_fnn'])"
      ],
      "execution_count": 50,
      "outputs": []
    },
    {
      "cell_type": "code",
      "metadata": {
        "id": "MrQZUHhfUtGG"
      },
      "source": [
        "pred_tree_para=pipeline_decisiontree.predict(test_data['paragraph_based_content'])"
      ],
      "execution_count": 51,
      "outputs": []
    },
    {
      "cell_type": "code",
      "metadata": {
        "colab": {
          "base_uri": "https://localhost:8080/"
        },
        "id": "UAXv4xBIU3wD",
        "outputId": "8520bc17-b978-4133-9717-b269492860df"
      },
      "source": [
        "print(\"Accuracy : \",accuracy_score(pred_tree_para,test_data['label_fnn']))\n",
        "acc_para_tree=accuracy_score(pred_tree_para,test_data['label_fnn'])*100"
      ],
      "execution_count": 85,
      "outputs": [
        {
          "output_type": "stream",
          "text": [
            "Accuracy :  0.683111954459203\n"
          ],
          "name": "stdout"
        }
      ]
    },
    {
      "cell_type": "code",
      "metadata": {
        "id": "hhQw6_PcU-Qm"
      },
      "source": [
        "fit = pipeline_Multinomial.fit(train_data['paragraph_based_content'],train_data['label_fnn'])"
      ],
      "execution_count": 53,
      "outputs": []
    },
    {
      "cell_type": "code",
      "metadata": {
        "id": "4OvTipT8Vd2d"
      },
      "source": [
        "pred_multinomial_para=pipeline_Multinomial.predict(test_data['paragraph_based_content'])"
      ],
      "execution_count": 54,
      "outputs": []
    },
    {
      "cell_type": "code",
      "metadata": {
        "colab": {
          "base_uri": "https://localhost:8080/"
        },
        "id": "hU5xMyCAVkY6",
        "outputId": "48ea2595-26bc-4d58-dbf5-0c9ea7e09181"
      },
      "source": [
        "print(\"Accuracy : \",accuracy_score(pred_multinomial_para,test_data['label_fnn']))\n",
        "acc_para_multinomial=accuracy_score(pred_multinomial_para,test_data['label_fnn'])*100"
      ],
      "execution_count": 86,
      "outputs": [
        {
          "output_type": "stream",
          "text": [
            "Accuracy :  0.7590132827324478\n"
          ],
          "name": "stdout"
        }
      ]
    },
    {
      "cell_type": "code",
      "metadata": {
        "id": "GtNp1WdZf_6b"
      },
      "source": [
        "#make dataset here\n",
        "\n",
        "accuracy_para_data = {'Supervised ML Models':['Linear Regression', 'Logistic Regression', 'Decision Tree', 'Multinomial'],\n",
        "        'Accuracy':[acc_para_linear, acc_para_logistic, acc_para_tree, acc_para_multinomial]}\n",
        "  \n",
        "# Create DataFrame\n",
        "df_para_accuracy = pd.DataFrame(accuracy_para_data)"
      ],
      "execution_count": 87,
      "outputs": []
    },
    {
      "cell_type": "code",
      "metadata": {
        "colab": {
          "base_uri": "https://localhost:8080/",
          "height": 294
        },
        "id": "hGpVbKMJgMQh",
        "outputId": "e3d44f9e-5f99-4d96-a4a3-372d62832f8e"
      },
      "source": [
        "plt.bar(df_para_accuracy['Supervised ML Models'], df_para_accuracy['Accuracy'])\n",
        "plt.title('Column = Paragraph based')\n",
        "plt.xlabel('Models')\n",
        "plt.ylabel('Accuracy')\n",
        "plt.show()"
      ],
      "execution_count": 98,
      "outputs": [
        {
          "output_type": "display_data",
          "data": {
            "image/png": "[encoded data removed]",
            "text/plain": [
              "<Figure size 432x288 with 1 Axes>"
            ]
          },
          "metadata": {
            "tags": [],
            "needs_background": "light"
          }
        }
      ]
    },
    {
      "cell_type": "markdown",
      "metadata": {
        "id": "tSnTl4ghW91P"
      },
      "source": [
        "### Model building on column fullText_based_content for further comparison"
      ]
    },
    {
      "cell_type": "code",
      "metadata": {
        "id": "vV6pMu-MVo24"
      },
      "source": [
        "fit = pipeline_Linear.fit(train_data['fullText_based_content'],train_data['label_fnn'])"
      ],
      "execution_count": 56,
      "outputs": []
    },
    {
      "cell_type": "code",
      "metadata": {
        "id": "q1o7P3aoXTlD"
      },
      "source": [
        "pred_fullText=pipeline_Linear.predict(test_data['fullText_based_content'])"
      ],
      "execution_count": 57,
      "outputs": []
    },
    {
      "cell_type": "code",
      "metadata": {
        "colab": {
          "base_uri": "https://localhost:8080/"
        },
        "id": "_2rQOKcwXZei",
        "outputId": "4fab0f9e-3a74-4b38-d517-9daf23a557d8"
      },
      "source": [
        "print(\"Accuracy : \",accuracy_score(pred_fullText,test_data['label_fnn']))\n",
        "acc_fullText_Linear=accuracy_score(pred_fullText,test_data['label_fnn'])*100"
      ],
      "execution_count": 89,
      "outputs": [
        {
          "output_type": "stream",
          "text": [
            "Accuracy :  0.8026565464895635\n"
          ],
          "name": "stdout"
        }
      ]
    },
    {
      "cell_type": "code",
      "metadata": {
        "id": "z304U1EsXeYP"
      },
      "source": [
        "fit = pipeline_Logistic.fit(train_data['fullText_based_content'],train_data['label_fnn'])"
      ],
      "execution_count": 59,
      "outputs": []
    },
    {
      "cell_type": "code",
      "metadata": {
        "id": "5epJfz1Za9Zk"
      },
      "source": [
        "pred_logistic_fullText=pipeline_Logistic.predict(test_data['fullText_based_content'])"
      ],
      "execution_count": 60,
      "outputs": []
    },
    {
      "cell_type": "code",
      "metadata": {
        "colab": {
          "base_uri": "https://localhost:8080/"
        },
        "id": "OvxlrsO-bCfX",
        "outputId": "1667bbba-2137-438a-d1b6-69b44d7103fb"
      },
      "source": [
        "print(\"Accuracy : \",accuracy_score(pred_logistic_fullText,test_data['label_fnn']))\n",
        "acc_fullText_logistic=accuracy_score(pred_logistic_fullText,test_data['label_fnn'])*100"
      ],
      "execution_count": 90,
      "outputs": [
        {
          "output_type": "stream",
          "text": [
            "Accuracy :  0.8045540796963947\n"
          ],
          "name": "stdout"
        }
      ]
    },
    {
      "cell_type": "code",
      "metadata": {
        "id": "KsujilRybGwS"
      },
      "source": [
        "fit = pipeline_decisiontree.fit(train_data['fullText_based_content'],train_data['label_fnn'])"
      ],
      "execution_count": 62,
      "outputs": []
    },
    {
      "cell_type": "code",
      "metadata": {
        "id": "CwKZORidbpiv"
      },
      "source": [
        "pred_tree_fullText=pipeline_decisiontree.predict(test_data['fullText_based_content'])"
      ],
      "execution_count": 63,
      "outputs": []
    },
    {
      "cell_type": "code",
      "metadata": {
        "colab": {
          "base_uri": "https://localhost:8080/"
        },
        "id": "I2zoCvfJbt-n",
        "outputId": "15c16a70-4e28-4453-beb3-6575c66e4531"
      },
      "source": [
        "print(\"Accuracy : \",accuracy_score(pred_tree_fullText,test_data['label_fnn']))\n",
        "acc_fullText_tree=accuracy_score(pred_tree_fullText,test_data['label_fnn'])*100"
      ],
      "execution_count": 91,
      "outputs": [
        {
          "output_type": "stream",
          "text": [
            "Accuracy :  0.6916508538899431\n"
          ],
          "name": "stdout"
        }
      ]
    },
    {
      "cell_type": "code",
      "metadata": {
        "colab": {
          "base_uri": "https://localhost:8080/"
        },
        "id": "6LaMpYIobydt",
        "outputId": "5f45f1c6-0164-4cbb-b0ca-b6945219b2e7"
      },
      "source": [
        "fit = pipeline_Multinomial.fit(train_data['fullText_based_content'],train_data['label_fnn'])\n",
        "pred_multinomial_fullText=pipeline_Multinomial.predict(test_data['fullText_based_content'])\n",
        "print(\"Accuracy : \",accuracy_score(pred_multinomial_fullText,test_data['label_fnn']))"
      ],
      "execution_count": 65,
      "outputs": [
        {
          "output_type": "stream",
          "text": [
            "Accuracy :  0.7590132827324478\n"
          ],
          "name": "stdout"
        }
      ]
    },
    {
      "cell_type": "code",
      "metadata": {
        "id": "ie-o0wIBcBXg"
      },
      "source": [
        "acc_fullText_multinomial=accuracy_score(pred_multinomial_fullText,test_data['label_fnn'])*100"
      ],
      "execution_count": 92,
      "outputs": []
    },
    {
      "cell_type": "code",
      "metadata": {
        "id": "c5L_tXTrlU88"
      },
      "source": [
        "#make dataset here\n",
        "\n",
        "accuracy_fullText_data = {'Supervised ML Models':['Linear Regression', 'Logistic Regression', 'Decision Tree', 'Multinomial'],\n",
        "        'Accuracy':[acc_fullText_Linear, acc_fullText_logistic, acc_fullText_tree, acc_fullText_multinomial]}\n",
        "  \n",
        "# Create DataFrame\n",
        "df_fullText_accuracy = pd.DataFrame(accuracy_fullText_data)"
      ],
      "execution_count": 95,
      "outputs": []
    },
    {
      "cell_type": "code",
      "metadata": {
        "colab": {
          "base_uri": "https://localhost:8080/",
          "height": 294
        },
        "id": "-hDM0O2KlgrS",
        "outputId": "f5301174-5349-4d9a-a741-1f8983872986"
      },
      "source": [
        "plt.bar(df_fullText_accuracy['Supervised ML Models'], df_fullText_accuracy['Accuracy'])\n",
        "plt.title('Column = FullText')\n",
        "plt.xlabel('Models')\n",
        "plt.ylabel('Accuracy')\n",
        "plt.show()"
      ],
      "execution_count": 97,
      "outputs": [
        {
          "output_type": "display_data",
          "data": {
            "image/png": "[encoded data removed]",
            "text/plain": [
              "<Figure size 432x288 with 1 Axes>"
            ]
          },
          "metadata": {
            "tags": [],
            "needs_background": "light"
          }
        }
      ]
    },
    {
      "cell_type": "markdown",
      "metadata": {
        "id": "SbzNdkT_vrll"
      },
      "source": [
        "### Comparing all the models tested on 3 columns namely, statement, paragraph based reviews and full text based reviews to compare which type of data performed the best. All the models performed good for both paragraph based and full text based but decision tree performed a little less on paragraph based text. "
      ]
    },
    {
      "cell_type": "code",
      "metadata": {
        "colab": {
          "base_uri": "https://localhost:8080/",
          "height": 294
        },
        "id": "2DP5wxAqlqSu",
        "outputId": "c8396c4d-e3ac-4d01-d8b1-44b9f06dd3c9"
      },
      "source": [
        "linearity=['Linear Statement', 'Linear Paragraph', 'Linear fullText']\n",
        "accuracy_linearity=[acc_linear, acc_para_linear, acc_fullText_Linear]\n",
        "plt.plot(linearity, accuracy_linearity)\n",
        "plt.title('Linear Regression on each model')\n",
        "plt.xlabel('Linear Models')\n",
        "plt.ylabel('Accuracy')\n",
        "plt.show()"
      ],
      "execution_count": 101,
      "outputs": [
        {
          "output_type": "display_data",
          "data": {
            "image/png": "[encoded data removed]",
            "text/plain": [
              "<Figure size 432x288 with 1 Axes>"
            ]
          },
          "metadata": {
            "tags": [],
            "needs_background": "light"
          }
        }
      ]
    },
    {
      "cell_type": "code",
      "metadata": {
        "colab": {
          "base_uri": "https://localhost:8080/",
          "height": 294
        },
        "id": "5Kjg-C6Lm5mZ",
        "outputId": "b1427d49-4ec4-40ba-cf1e-d424a365622d"
      },
      "source": [
        "logistics=['Logistic Statement', 'Logistic Paragraph', 'Logistic fullText']\n",
        "accuracy_logistics=[acc_logistic, acc_para_logistic, acc_fullText_logistic]\n",
        "plt.plot(linearity, accuracy_logistics)\n",
        "plt.title('logistic regression on each model')\n",
        "plt.xlabel('Logistic Models')\n",
        "plt.ylabel('Accuracy')\n",
        "plt.show()"
      ],
      "execution_count": 102,
      "outputs": [
        {
          "output_type": "display_data",
          "data": {
            "image/png": "[encoded data removed]",
            "text/plain": [
              "<Figure size 432x288 with 1 Axes>"
            ]
          },
          "metadata": {
            "tags": [],
            "needs_background": "light"
          }
        }
      ]
    },
    {
      "cell_type": "code",
      "metadata": {
        "colab": {
          "base_uri": "https://localhost:8080/",
          "height": 294
        },
        "id": "bcewcwHjoQnK",
        "outputId": "e23b0043-c8a6-467d-d7a8-d0f60bf7f375"
      },
      "source": [
        "tree=['Tree Statement', 'Tree Paragraph', 'Tree fullText']\n",
        "accuracy_tree=[acc_tree, acc_para_tree, acc_fullText_tree]\n",
        "plt.plot(tree, accuracy_tree)\n",
        "plt.title('Decision tree on each model')\n",
        "plt.xlabel('DecisionTree Models')\n",
        "plt.ylabel('Accuracy')\n",
        "plt.show()"
      ],
      "execution_count": 103,
      "outputs": [
        {
          "output_type": "display_data",
          "data": {
            "image/png": "[encoded data removed]",
            "text/plain": [
              "<Figure size 432x288 with 1 Axes>"
            ]
          },
          "metadata": {
            "tags": [],
            "needs_background": "light"
          }
        }
      ]
    },
    {
      "cell_type": "code",
      "metadata": {
        "colab": {
          "base_uri": "https://localhost:8080/",
          "height": 294
        },
        "id": "EUBMcNxMom9C",
        "outputId": "cd4ebfa9-c879-4f92-ecbf-0a50c8f4d408"
      },
      "source": [
        "multinomialNB=['Multinomial Statement', 'Multinomial Paragraph', 'Multinomial fullText']\n",
        "accuracy_multinomialNB=[acc_multinomial, acc_para_multinomial, acc_fullText_multinomial]\n",
        "plt.plot(multinomialNB, accuracy_multinomialNB)\n",
        "plt.title('MultinomialNB on each model')\n",
        "plt.xlabel('MultinomialNB Models')\n",
        "plt.ylabel('Accuracy')\n",
        "plt.show()"
      ],
      "execution_count": 104,
      "outputs": [
        {
          "output_type": "display_data",
          "data": {
            "image/png": "[encoded data removed]",
            "text/plain": [
              "<Figure size 432x288 with 1 Axes>"
            ]
          },
          "metadata": {
            "tags": [],
            "needs_background": "light"
          }
        }
      ]
    },
    {
      "cell_type": "code",
      "metadata": {
        "id": "iJFLl_cZpArS"
      },
      "source": [
        ""
      ],
      "execution_count": null,
      "outputs": []
    }
  ]
}