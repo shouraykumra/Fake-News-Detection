{
  "nbformat": 4,
  "nbformat_minor": 0,
  "metadata": {
    "colab": {
      "name": "supervised_machine_learning_models.ipynb",
      "provenance": []
    },
    "kernelspec": {
      "name": "python3",
      "display_name": "Python 3"
    }
  },
  "cells": [
    {
      "cell_type": "code",
      "metadata": {
        "colab": {
          "base_uri": "https://localhost:8080/"
        },
        "id": "kgoOrtFZ1zMP",
        "outputId": "85109a11-75e8-4397-d5e5-d07f855ba7e5"
      },
      "source": [
        "from google.colab import drive\n",
        "drive.mount('drive')"
      ],
      "execution_count": 1,
      "outputs": [
        {
          "output_type": "stream",
          "text": [
            "Mounted at drive\n"
          ],
          "name": "stdout"
        }
      ]
    },
    {
      "cell_type": "code",
      "metadata": {
        "id": "LsIeBJq815Bl"
      },
      "source": [
        "import pandas as pd\n",
        "import numpy as np\n",
        "import matplotlib.pyplot as plt"
      ],
      "execution_count": 2,
      "outputs": []
    },
    {
      "cell_type": "code",
      "metadata": {
        "id": "CPUJT4q_4dpC"
      },
      "source": [
        "from tensorflow.keras.layers import Embedding\n",
        "from tensorflow.keras.preprocessing.sequence import pad_sequences\n",
        "from tensorflow.keras.models import Sequential\n",
        "from tensorflow.keras.preprocessing.text import one_hot\n",
        "from tensorflow.keras.layers import LSTM\n",
        "from tensorflow.keras.layers import Dense\n",
        "from sklearn.linear_model import SGDClassifier, LogisticRegression\n",
        "from keras.utils import plot_model\n",
        "from sklearn.feature_extraction.text import CountVectorizer, TfidfTransformer\n",
        "from sklearn.svm import LinearSVC\n",
        "from sklearn.metrics import accuracy_score\n",
        "from sklearn.pipeline import Pipeline\n",
        "from sklearn import tree"
      ],
      "execution_count": 53,
      "outputs": []
    },
    {
      "cell_type": "code",
      "metadata": {
        "id": "Ef1WVSqE2JLh"
      },
      "source": [
        "train_data=pd.read_csv('/content/drive/MyDrive/cleaned_data.csv', index_col=0)"
      ],
      "execution_count": 4,
      "outputs": []
    },
    {
      "cell_type": "code",
      "metadata": {
        "id": "dE49V6Vc2zOt"
      },
      "source": [
        "test_data=pd.read_csv('/content/drive/MyDrive/cleanedTest_data.csv', index_col=0)"
      ],
      "execution_count": 5,
      "outputs": []
    },
    {
      "cell_type": "code",
      "metadata": {
        "colab": {
          "base_uri": "https://localhost:8080/",
          "height": 196
        },
        "id": "LBFtfRsV2Qyw",
        "outputId": "6bf9be73-bc87-4800-b340-8cc43378846f"
      },
      "source": [
        "train_data.head(3)"
      ],
      "execution_count": 6,
      "outputs": [
        {
          "output_type": "execute_result",
          "data": {
            "text/html": [
              "<div>\n",
              "<style scoped>\n",
              "    .dataframe tbody tr th:only-of-type {\n",
              "        vertical-align: middle;\n",
              "    }\n",
              "\n",
              "    .dataframe tbody tr th {\n",
              "        vertical-align: top;\n",
              "    }\n",
              "\n",
              "    .dataframe thead th {\n",
              "        text-align: right;\n",
              "    }\n",
              "</style>\n",
              "<table border=\"1\" class=\"dataframe\">\n",
              "  <thead>\n",
              "    <tr style=\"text-align: right;\">\n",
              "      <th></th>\n",
              "      <th>speaker</th>\n",
              "      <th>statement</th>\n",
              "      <th>paragraph_based_content</th>\n",
              "      <th>fullText_based_content</th>\n",
              "      <th>label_fnn</th>\n",
              "      <th>source</th>\n",
              "      <th>polarity</th>\n",
              "      <th>length</th>\n",
              "    </tr>\n",
              "  </thead>\n",
              "  <tbody>\n",
              "    <tr>\n",
              "      <th>0</th>\n",
              "      <td>Joe Wilkinson</td>\n",
              "      <td>national organization say georgia one america ...</td>\n",
              "      <td>coalition government watchdog group last week ...</td>\n",
              "      <td>coalition government watchdog group last week ...</td>\n",
              "      <td>fake</td>\n",
              "      <td>www.ajc.com</td>\n",
              "      <td>-0.027052</td>\n",
              "      <td>409</td>\n",
              "    </tr>\n",
              "    <tr>\n",
              "      <th>1</th>\n",
              "      <td>Rick Scott</td>\n",
              "      <td>say barack obama health care law big job kille...</td>\n",
              "      <td>supreme court justice embark three day oral ar...</td>\n",
              "      <td>supreme court justice embark three day oral ar...</td>\n",
              "      <td>fake</td>\n",
              "      <td>www.youtube.com</td>\n",
              "      <td>-0.062596</td>\n",
              "      <td>571</td>\n",
              "    </tr>\n",
              "    <tr>\n",
              "      <th>2</th>\n",
              "      <td>J.D. Alexander</td>\n",
              "      <td>say southwest florida water management distric...</td>\n",
              "      <td>new one senate budget committee chairman say w...</td>\n",
              "      <td>new one senate budget committee chairman say w...</td>\n",
              "      <td>fake</td>\n",
              "      <td>www.tampabay.com</td>\n",
              "      <td>0.037204</td>\n",
              "      <td>444</td>\n",
              "    </tr>\n",
              "  </tbody>\n",
              "</table>\n",
              "</div>"
            ],
            "text/plain": [
              "          speaker  ... length\n",
              "0   Joe Wilkinson  ...    409\n",
              "1      Rick Scott  ...    571\n",
              "2  J.D. Alexander  ...    444\n",
              "\n",
              "[3 rows x 8 columns]"
            ]
          },
          "metadata": {
            "tags": []
          },
          "execution_count": 6
        }
      ]
    },
    {
      "cell_type": "code",
      "metadata": {
        "colab": {
          "base_uri": "https://localhost:8080/",
          "height": 144
        },
        "id": "Tpv6MVpN2St6",
        "outputId": "282222d4-60f5-43d7-8c2c-5c58e5815990"
      },
      "source": [
        "test_data.head(3)"
      ],
      "execution_count": 7,
      "outputs": [
        {
          "output_type": "execute_result",
          "data": {
            "text/html": [
              "<div>\n",
              "<style scoped>\n",
              "    .dataframe tbody tr th:only-of-type {\n",
              "        vertical-align: middle;\n",
              "    }\n",
              "\n",
              "    .dataframe tbody tr th {\n",
              "        vertical-align: top;\n",
              "    }\n",
              "\n",
              "    .dataframe thead th {\n",
              "        text-align: right;\n",
              "    }\n",
              "</style>\n",
              "<table border=\"1\" class=\"dataframe\">\n",
              "  <thead>\n",
              "    <tr style=\"text-align: right;\">\n",
              "      <th></th>\n",
              "      <th>speaker</th>\n",
              "      <th>statement</th>\n",
              "      <th>paragraph_based_content</th>\n",
              "      <th>fullText_based_content</th>\n",
              "      <th>label_fnn</th>\n",
              "      <th>source</th>\n",
              "    </tr>\n",
              "  </thead>\n",
              "  <tbody>\n",
              "    <tr>\n",
              "      <th>0</th>\n",
              "      <td>Jon Kyl</td>\n",
              "      <td>president obama attempt filibuster justice ali...</td>\n",
              "      <td>supreme court justice john paul stevens announ...</td>\n",
              "      <td>supreme court justice john paul stevens announ...</td>\n",
              "      <td>real</td>\n",
              "      <td>abcnews.go.com</td>\n",
              "    </tr>\n",
              "    <tr>\n",
              "      <th>1</th>\n",
              "      <td>Michael Steele</td>\n",
              "      <td>hawaii history throw incumbent office</td>\n",
              "      <td>abc week chairman republican democratic nation...</td>\n",
              "      <td>abc week chairman republican democratic nation...</td>\n",
              "      <td>real</td>\n",
              "      <td>www.starbulletin.com</td>\n",
              "    </tr>\n",
              "    <tr>\n",
              "      <th>2</th>\n",
              "      <td>John Boehner</td>\n",
              "      <td>national debt track exceed size entire economy...</td>\n",
              "      <td>ever since barack obama become president begin...</td>\n",
              "      <td>ever since barack obama become president begin...</td>\n",
              "      <td>real</td>\n",
              "      <td>www.desmoinesregister.com</td>\n",
              "    </tr>\n",
              "  </tbody>\n",
              "</table>\n",
              "</div>"
            ],
            "text/plain": [
              "          speaker  ...                     source\n",
              "0         Jon Kyl  ...             abcnews.go.com\n",
              "1  Michael Steele  ...       www.starbulletin.com\n",
              "2    John Boehner  ...  www.desmoinesregister.com\n",
              "\n",
              "[3 rows x 6 columns]"
            ]
          },
          "metadata": {
            "tags": []
          },
          "execution_count": 7
        }
      ]
    },
    {
      "cell_type": "code",
      "metadata": {
        "id": "hIq2nron28H7"
      },
      "source": [
        "train_data.drop(columns=['polarity', 'length'], inplace=True)"
      ],
      "execution_count": 8,
      "outputs": []
    },
    {
      "cell_type": "code",
      "metadata": {
        "id": "Of_fCgyo4RE0"
      },
      "source": [
        "vocab_size=500\n",
        "embedding_vector=10"
      ],
      "execution_count": 9,
      "outputs": []
    },
    {
      "cell_type": "code",
      "metadata": {
        "id": "dqlDaOEv8OyJ"
      },
      "source": [
        "from sklearn.feature_extraction.text import CountVectorizer\n",
        "\n",
        "# data vectorizer\n",
        "vectorizer = CountVectorizer(analyzer = \"word\", \n",
        "                             binary = True, \n",
        "                             min_df =2,\n",
        "                             stop_words='english')\n",
        "array_sentence = vectorizer.fit_transform(train_data['statement']).toarray()\n",
        "training_data = pd.DataFrame(array_sentence, columns=vectorizer.get_feature_names())"
      ],
      "execution_count": 10,
      "outputs": []
    },
    {
      "cell_type": "code",
      "metadata": {
        "colab": {
          "base_uri": "https://localhost:8080/"
        },
        "id": "6prpYDdRvmgU",
        "outputId": "f6bd89d5-5368-46ab-ed7c-f80b8918dda1"
      },
      "source": [
        "train_data.shape"
      ],
      "execution_count": 28,
      "outputs": [
        {
          "output_type": "execute_result",
          "data": {
            "text/plain": [
              "(15212, 6)"
            ]
          },
          "metadata": {
            "tags": []
          },
          "execution_count": 28
        }
      ]
    },
    {
      "cell_type": "code",
      "metadata": {
        "colab": {
          "base_uri": "https://localhost:8080/"
        },
        "id": "HK2TUqFNvqVa",
        "outputId": "a78b86c4-3094-4c98-af86-16335ac3f57e"
      },
      "source": [
        "training_data.shape"
      ],
      "execution_count": 29,
      "outputs": [
        {
          "output_type": "execute_result",
          "data": {
            "text/plain": [
              "(15212, 6623)"
            ]
          },
          "metadata": {
            "tags": []
          },
          "execution_count": 29
        }
      ]
    },
    {
      "cell_type": "code",
      "metadata": {
        "id": "1aymENQtvyH6"
      },
      "source": [
        "labels=train_data['label_fnn']"
      ],
      "execution_count": 30,
      "outputs": []
    },
    {
      "cell_type": "code",
      "metadata": {
        "id": "vM7UGL6bBnMw"
      },
      "source": [
        "train_data['label_fnn'].replace({'fake': 0, 'real': 1}, inplace=True)"
      ],
      "execution_count": 11,
      "outputs": []
    },
    {
      "cell_type": "code",
      "metadata": {
        "id": "GVCWzzOou-Ah"
      },
      "source": [
        "from sklearn.model_selection import train_test_split\n",
        "X_train, X_test, y_train, y_test = train_test_split(training_data, labels, test_size=.2)"
      ],
      "execution_count": 31,
      "outputs": []
    },
    {
      "cell_type": "code",
      "metadata": {
        "colab": {
          "base_uri": "https://localhost:8080/"
        },
        "id": "Pu9YjLvc7ajN",
        "outputId": "1eb7f249-9c65-4f00-a9d7-f4638795c57e"
      },
      "source": [
        "from sklearn.naive_bayes import MultinomialNB\n",
        "model = MultinomialNB()\n",
        "model.fit(X_train, y_train)"
      ],
      "execution_count": 32,
      "outputs": [
        {
          "output_type": "execute_result",
          "data": {
            "text/plain": [
              "MultinomialNB(alpha=1.0, class_prior=None, fit_prior=True)"
            ]
          },
          "metadata": {
            "tags": []
          },
          "execution_count": 32
        }
      ]
    },
    {
      "cell_type": "code",
      "metadata": {
        "id": "oTnWb1N-pkDr"
      },
      "source": [
        "y_predict_train = model.predict(X_train)\n",
        "train_acc = accuracy_score(y_train,y_predict_train)\n",
        "    \n",
        "    # testing error\n",
        "y_predict_test = model.predict(X_test)\n",
        "test_acc = accuracy_score(y_test,y_predict_test)"
      ],
      "execution_count": 33,
      "outputs": []
    },
    {
      "cell_type": "code",
      "metadata": {
        "colab": {
          "base_uri": "https://localhost:8080/"
        },
        "id": "6EcEYpbjpkIP",
        "outputId": "64932b67-f650-4073-fc2b-6217c5ffec53"
      },
      "source": [
        "print(\"Training Accuracy: {:.2f}%\".format(train_acc*100))\n",
        "print(\"Testing Accuracy: {:.2f}%\".format(test_acc*100))"
      ],
      "execution_count": 34,
      "outputs": [
        {
          "output_type": "stream",
          "text": [
            "Training Accuracy: 74.34%\n",
            "Testing Accuracy: 62.04%\n"
          ],
          "name": "stdout"
        }
      ]
    },
    {
      "cell_type": "markdown",
      "metadata": {
        "id": "bO4Arfk7Cfh6"
      },
      "source": [
        "### using different datasets, train_data for training, validation_data for validation and test_data for testing."
      ]
    },
    {
      "cell_type": "code",
      "metadata": {
        "id": "INCX6hna_X8t"
      },
      "source": [
        "pipeline = Pipeline([\n",
        "        ('bow', CountVectorizer()),  \n",
        "        ('tfidf', TfidfTransformer()),  \n",
        "        ('c', LinearSVC())\n",
        "    ])\n",
        "fit = pipeline.fit(train_data['statement'],train_data['label_fnn'])"
      ],
      "execution_count": 46,
      "outputs": []
    },
    {
      "cell_type": "code",
      "metadata": {
        "id": "sxTn55T0_YB0"
      },
      "source": [
        "pred=pipeline.predict(test_data['statement'])"
      ],
      "execution_count": 47,
      "outputs": []
    },
    {
      "cell_type": "code",
      "metadata": {
        "colab": {
          "base_uri": "https://localhost:8080/"
        },
        "id": "oFUf_v5N_YHV",
        "outputId": "e4d98a00-23c2-4ed2-e2a7-27491390b768"
      },
      "source": [
        "print(\"Accuracy : \",accuracy_score(pred,test_data['label_fnn']))"
      ],
      "execution_count": 48,
      "outputs": [
        {
          "output_type": "stream",
          "text": [
            "Accuracy :  0.6736242884250474\n"
          ],
          "name": "stdout"
        }
      ]
    },
    {
      "cell_type": "code",
      "metadata": {
        "id": "RcoqPY9K_YLf"
      },
      "source": [
        "pipeline = Pipeline([\n",
        "        ('bow', CountVectorizer()),  \n",
        "        ('tfidf', TfidfTransformer()),  \n",
        "        (('c', LogisticRegression()))\n",
        "    ])\n",
        "fit = pipeline.fit(train_data['statement'],train_data['label_fnn'])"
      ],
      "execution_count": 49,
      "outputs": []
    },
    {
      "cell_type": "code",
      "metadata": {
        "id": "zyaOErPA_YPk"
      },
      "source": [
        "pred_logistic=pipeline.predict(test_data['statement'])"
      ],
      "execution_count": 50,
      "outputs": []
    },
    {
      "cell_type": "code",
      "metadata": {
        "colab": {
          "base_uri": "https://localhost:8080/"
        },
        "id": "JfIq9FTcHKLp",
        "outputId": "fccef68c-3521-40e1-9d7c-8c555eed1aca"
      },
      "source": [
        "print(\"Accuracy : \",accuracy_score(pred_logistic,test_data['label_fnn']))"
      ],
      "execution_count": 51,
      "outputs": [
        {
          "output_type": "stream",
          "text": [
            "Accuracy :  0.683111954459203\n"
          ],
          "name": "stdout"
        }
      ]
    },
    {
      "cell_type": "code",
      "metadata": {
        "id": "ZTi4BlTkL8My"
      },
      "source": [
        "pipeline_decisiontree = Pipeline([\n",
        "        ('bow', CountVectorizer()),  \n",
        "        ('tfidf', TfidfTransformer()),  \n",
        "        ('c', tree.DecisionTreeClassifier())\n",
        "    ])\n",
        "fit = pipeline_decisiontree.fit(train_data['statement'],train_data['label_fnn'])"
      ],
      "execution_count": 61,
      "outputs": []
    },
    {
      "cell_type": "code",
      "metadata": {
        "id": "jQWWXkAqL8S7"
      },
      "source": [
        "pred_tree=pipeline_decisiontree.predict(test_data['statement'])"
      ],
      "execution_count": 62,
      "outputs": []
    },
    {
      "cell_type": "code",
      "metadata": {
        "colab": {
          "base_uri": "https://localhost:8080/"
        },
        "id": "5bd6_h9IL8w_",
        "outputId": "aad0eff5-ff02-4851-c215-edb143d9872d"
      },
      "source": [
        "print(\"Accuracy : \",accuracy_score(pred_tree,test_data['label_fnn']))"
      ],
      "execution_count": 63,
      "outputs": [
        {
          "output_type": "stream",
          "text": [
            "Accuracy :  0.5929791271347249\n"
          ],
          "name": "stdout"
        }
      ]
    },
    {
      "cell_type": "code",
      "metadata": {
        "id": "TtSx2pZN5XJP"
      },
      "source": [
        ""
      ],
      "execution_count": null,
      "outputs": []
    }
  ]
}